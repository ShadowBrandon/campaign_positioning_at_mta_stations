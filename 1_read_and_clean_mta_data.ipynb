{
 "cells": [
  {
   "cell_type": "markdown",
   "metadata": {},
   "source": [
    "    Topic:        Challenge Set 1  \n",
    "    Subject:      Explore MTA turnstile data  \n",
    "    Date:         07/09/2018  \n",
    "    Name:         Courtney  \n",
    "    Worked with:  Tim, Brandon"
   ]
  },
  {
   "cell_type": "code",
   "execution_count": 1,
   "metadata": {},
   "outputs": [],
   "source": [
    "import pandas as pd\n",
    "import numpy as np\n",
    "import pickle\n",
    "import matplotlib.pyplot as plt\n",
    "from copy import deepcopy\n",
    "\n",
    "%matplotlib inline"
   ]
  },
  {
   "cell_type": "markdown",
   "metadata": {},
   "source": [
    "**Read data files from online, concatenate the data and create a pickle file**"
   ]
  },
  {
   "cell_type": "markdown",
   "metadata": {},
   "source": [
    "* Open up a new Jupyter notebook\n",
    "* Download a few MTA turnstile data files\n",
    "* Open up a file, use csv reader to read it, make a python dict where there is a key for each (C/A, UNIT, SCP, STATION)."
   ]
  },
  {
   "cell_type": "markdown",
   "metadata": {},
   "source": [
    "First, create a function to retrieve the necessary data from April, May and June 2018."
   ]
  },
  {
   "cell_type": "code",
   "execution_count": null,
   "metadata": {},
   "outputs": [],
   "source": [
    "# Data Source: http://web.mta.info/developers/turnstile.html\n",
    "def get_data_and_pickle(weeks):\n",
    "    \"\"\"\n",
    "    Retrieve and read data from a website\n",
    "    ---\n",
    "    Input: list of ints or strings, or single int/string\n",
    "    \"\"\"\n",
    "    url = \"http://web.mta.info/developers/data/nyct/turnstile/turnstile_{}.txt\"\n",
    "    data = []\n",
    "    for week in weeks:\n",
    "        file_url = url.format(week)\n",
    "        data.append(pd.read_csv(file_url))\n",
    "    with open('raw_data_mta.pickle', 'wb') as to_write:\n",
    "        pickle.dump(pd.concat(data), to_write)\n",
    "    return pd.concat(data)\n",
    "\n",
    "# Pull data from April, May and June 2018\n",
    "week_labels = [180630, 180623, 180616, 180609, 180602, 180526, \n",
    "               180519, 180512, 180505, 180428, 180421, 180414, 180407]\n",
    "\n",
    "turnstiles_df = get_data_and_pickle(week_labels)"
   ]
  },
  {
   "cell_type": "code",
   "execution_count": 59,
   "metadata": {},
   "outputs": [],
   "source": [
    "with open('raw_data_mta.pickle','rb') as read_file:\n",
    "    turnstiles_df = pickle.load(read_file)"
   ]
  },
  {
   "cell_type": "markdown",
   "metadata": {},
   "source": [
    "Alternatively if the file is already saved locally in the same\n",
    "directory as the Jupyter notebook, uncomment & run the below after \n",
    "assigning the local data file name to the variable file."
   ]
  },
  {
   "cell_type": "code",
   "execution_count": 60,
   "metadata": {},
   "outputs": [],
   "source": [
    "# data_file = 'data_file.txt'\n",
    "# turnstiles_df = pd.read_csv(data_file)"
   ]
  },
  {
   "cell_type": "code",
   "execution_count": 61,
   "metadata": {},
   "outputs": [],
   "source": [
    "# turnstiles_df.head()"
   ]
  },
  {
   "cell_type": "code",
   "execution_count": 63,
   "metadata": {},
   "outputs": [
    {
     "data": {
      "text/plain": [
       "(2560843, 11)"
      ]
     },
     "execution_count": 63,
     "metadata": {},
     "output_type": "execute_result"
    }
   ],
   "source": [
    "turnstiles_df.shape"
   ]
  },
  {
   "cell_type": "markdown",
   "metadata": {},
   "source": [
    "**Format the date and select columns of interest**"
   ]
  },
  {
   "cell_type": "code",
   "execution_count": 64,
   "metadata": {},
   "outputs": [],
   "source": [
    "turnstiles_df[\"DATE_TIME\"] = pd.to_datetime(turnstiles_df.DATE + \" \" + turnstiles_df.TIME, format=\"%m/%d/%Y %H:%M:%S\")"
   ]
  },
  {
   "cell_type": "code",
   "execution_count": 65,
   "metadata": {},
   "outputs": [],
   "source": [
    "turnstiles_df[\"DATE\"] = pd.to_datetime(turnstiles_df.DATE, format=\"%m/%d/%Y\")"
   ]
  },
  {
   "cell_type": "code",
   "execution_count": 66,
   "metadata": {},
   "outputs": [],
   "source": [
    "time_series_df = pd.DataFrame(turnstiles_df[['C/A', 'UNIT', 'SCP', 'STATION', 'LINENAME', 'ENTRIES', 'DATE_TIME', 'DATE', 'DESC']])"
   ]
  },
  {
   "cell_type": "code",
   "execution_count": 67,
   "metadata": {},
   "outputs": [
    {
     "data": {
      "text/html": [
       "<div>\n",
       "<style scoped>\n",
       "    .dataframe tbody tr th:only-of-type {\n",
       "        vertical-align: middle;\n",
       "    }\n",
       "\n",
       "    .dataframe tbody tr th {\n",
       "        vertical-align: top;\n",
       "    }\n",
       "\n",
       "    .dataframe thead th {\n",
       "        text-align: right;\n",
       "    }\n",
       "</style>\n",
       "<table border=\"1\" class=\"dataframe\">\n",
       "  <thead>\n",
       "    <tr style=\"text-align: right;\">\n",
       "      <th></th>\n",
       "      <th>C/A</th>\n",
       "      <th>UNIT</th>\n",
       "      <th>SCP</th>\n",
       "      <th>STATION</th>\n",
       "      <th>LINENAME</th>\n",
       "      <th>ENTRIES</th>\n",
       "      <th>DATE_TIME</th>\n",
       "      <th>DATE</th>\n",
       "      <th>DESC</th>\n",
       "    </tr>\n",
       "  </thead>\n",
       "  <tbody>\n",
       "    <tr>\n",
       "      <th>0</th>\n",
       "      <td>A002</td>\n",
       "      <td>R051</td>\n",
       "      <td>02-00-00</td>\n",
       "      <td>59 ST</td>\n",
       "      <td>NQR456W</td>\n",
       "      <td>6667150</td>\n",
       "      <td>2018-06-23 00:00:00</td>\n",
       "      <td>2018-06-23</td>\n",
       "      <td>REGULAR</td>\n",
       "    </tr>\n",
       "    <tr>\n",
       "      <th>1</th>\n",
       "      <td>A002</td>\n",
       "      <td>R051</td>\n",
       "      <td>02-00-00</td>\n",
       "      <td>59 ST</td>\n",
       "      <td>NQR456W</td>\n",
       "      <td>6667173</td>\n",
       "      <td>2018-06-23 04:00:00</td>\n",
       "      <td>2018-06-23</td>\n",
       "      <td>REGULAR</td>\n",
       "    </tr>\n",
       "    <tr>\n",
       "      <th>2</th>\n",
       "      <td>A002</td>\n",
       "      <td>R051</td>\n",
       "      <td>02-00-00</td>\n",
       "      <td>59 ST</td>\n",
       "      <td>NQR456W</td>\n",
       "      <td>6667189</td>\n",
       "      <td>2018-06-23 08:00:00</td>\n",
       "      <td>2018-06-23</td>\n",
       "      <td>REGULAR</td>\n",
       "    </tr>\n",
       "    <tr>\n",
       "      <th>3</th>\n",
       "      <td>A002</td>\n",
       "      <td>R051</td>\n",
       "      <td>02-00-00</td>\n",
       "      <td>59 ST</td>\n",
       "      <td>NQR456W</td>\n",
       "      <td>6667305</td>\n",
       "      <td>2018-06-23 12:00:00</td>\n",
       "      <td>2018-06-23</td>\n",
       "      <td>REGULAR</td>\n",
       "    </tr>\n",
       "    <tr>\n",
       "      <th>4</th>\n",
       "      <td>A002</td>\n",
       "      <td>R051</td>\n",
       "      <td>02-00-00</td>\n",
       "      <td>59 ST</td>\n",
       "      <td>NQR456W</td>\n",
       "      <td>6667534</td>\n",
       "      <td>2018-06-23 16:00:00</td>\n",
       "      <td>2018-06-23</td>\n",
       "      <td>REGULAR</td>\n",
       "    </tr>\n",
       "  </tbody>\n",
       "</table>\n",
       "</div>"
      ],
      "text/plain": [
       "    C/A  UNIT       SCP STATION LINENAME  ENTRIES           DATE_TIME  \\\n",
       "0  A002  R051  02-00-00   59 ST  NQR456W  6667150 2018-06-23 00:00:00   \n",
       "1  A002  R051  02-00-00   59 ST  NQR456W  6667173 2018-06-23 04:00:00   \n",
       "2  A002  R051  02-00-00   59 ST  NQR456W  6667189 2018-06-23 08:00:00   \n",
       "3  A002  R051  02-00-00   59 ST  NQR456W  6667305 2018-06-23 12:00:00   \n",
       "4  A002  R051  02-00-00   59 ST  NQR456W  6667534 2018-06-23 16:00:00   \n",
       "\n",
       "        DATE     DESC  \n",
       "0 2018-06-23  REGULAR  \n",
       "1 2018-06-23  REGULAR  \n",
       "2 2018-06-23  REGULAR  \n",
       "3 2018-06-23  REGULAR  \n",
       "4 2018-06-23  REGULAR  "
      ]
     },
     "execution_count": 67,
     "metadata": {},
     "output_type": "execute_result"
    }
   ],
   "source": [
    "time_series_df.head()"
   ]
  },
  {
   "cell_type": "code",
   "execution_count": 68,
   "metadata": {},
   "outputs": [
    {
     "data": {
      "text/plain": [
       "C/A                  object\n",
       "UNIT                 object\n",
       "SCP                  object\n",
       "STATION              object\n",
       "LINENAME             object\n",
       "ENTRIES               int64\n",
       "DATE_TIME    datetime64[ns]\n",
       "DATE         datetime64[ns]\n",
       "DESC                 object\n",
       "dtype: object"
      ]
     },
     "execution_count": 68,
     "metadata": {},
     "output_type": "execute_result"
    }
   ],
   "source": [
    "time_series_df.dtypes"
   ]
  },
  {
   "cell_type": "markdown",
   "metadata": {},
   "source": [
    "**Remove duplicate AUDIT times from the dataset**"
   ]
  },
  {
   "cell_type": "code",
   "execution_count": 69,
   "metadata": {},
   "outputs": [
    {
     "data": {
      "text/plain": [
       "REGULAR       0.997141\n",
       "RECOVR AUD    0.002859\n",
       "Name: DESC, dtype: float64"
      ]
     },
     "execution_count": 69,
     "metadata": {},
     "output_type": "execute_result"
    }
   ],
   "source": [
    "time_series_df['DESC'].value_counts(normalize=True)"
   ]
  },
  {
   "cell_type": "code",
   "execution_count": 70,
   "metadata": {},
   "outputs": [
    {
     "data": {
      "text/plain": [
       "(2560843, 9)"
      ]
     },
     "execution_count": 70,
     "metadata": {},
     "output_type": "execute_result"
    }
   ],
   "source": [
    "time_series_df.shape"
   ]
  },
  {
   "cell_type": "code",
   "execution_count": 71,
   "metadata": {},
   "outputs": [],
   "source": [
    "mask = (time_series_df[\"DESC\"] == \"REGULAR\")"
   ]
  },
  {
   "cell_type": "code",
   "execution_count": 72,
   "metadata": {},
   "outputs": [],
   "source": [
    "time_series_df = deepcopy(time_series_df[mask])"
   ]
  },
  {
   "cell_type": "code",
   "execution_count": 73,
   "metadata": {},
   "outputs": [
    {
     "data": {
      "text/html": [
       "<div>\n",
       "<style scoped>\n",
       "    .dataframe tbody tr th:only-of-type {\n",
       "        vertical-align: middle;\n",
       "    }\n",
       "\n",
       "    .dataframe tbody tr th {\n",
       "        vertical-align: top;\n",
       "    }\n",
       "\n",
       "    .dataframe thead th {\n",
       "        text-align: right;\n",
       "    }\n",
       "</style>\n",
       "<table border=\"1\" class=\"dataframe\">\n",
       "  <thead>\n",
       "    <tr style=\"text-align: right;\">\n",
       "      <th></th>\n",
       "      <th>C/A</th>\n",
       "      <th>UNIT</th>\n",
       "      <th>SCP</th>\n",
       "      <th>STATION</th>\n",
       "      <th>LINENAME</th>\n",
       "      <th>ENTRIES</th>\n",
       "      <th>DATE_TIME</th>\n",
       "      <th>DATE</th>\n",
       "      <th>DESC</th>\n",
       "    </tr>\n",
       "  </thead>\n",
       "  <tbody>\n",
       "    <tr>\n",
       "      <th>0</th>\n",
       "      <td>A002</td>\n",
       "      <td>R051</td>\n",
       "      <td>02-00-00</td>\n",
       "      <td>59 ST</td>\n",
       "      <td>NQR456W</td>\n",
       "      <td>6667150</td>\n",
       "      <td>2018-06-23 00:00:00</td>\n",
       "      <td>2018-06-23</td>\n",
       "      <td>REGULAR</td>\n",
       "    </tr>\n",
       "    <tr>\n",
       "      <th>1</th>\n",
       "      <td>A002</td>\n",
       "      <td>R051</td>\n",
       "      <td>02-00-00</td>\n",
       "      <td>59 ST</td>\n",
       "      <td>NQR456W</td>\n",
       "      <td>6667173</td>\n",
       "      <td>2018-06-23 04:00:00</td>\n",
       "      <td>2018-06-23</td>\n",
       "      <td>REGULAR</td>\n",
       "    </tr>\n",
       "    <tr>\n",
       "      <th>2</th>\n",
       "      <td>A002</td>\n",
       "      <td>R051</td>\n",
       "      <td>02-00-00</td>\n",
       "      <td>59 ST</td>\n",
       "      <td>NQR456W</td>\n",
       "      <td>6667189</td>\n",
       "      <td>2018-06-23 08:00:00</td>\n",
       "      <td>2018-06-23</td>\n",
       "      <td>REGULAR</td>\n",
       "    </tr>\n",
       "    <tr>\n",
       "      <th>3</th>\n",
       "      <td>A002</td>\n",
       "      <td>R051</td>\n",
       "      <td>02-00-00</td>\n",
       "      <td>59 ST</td>\n",
       "      <td>NQR456W</td>\n",
       "      <td>6667305</td>\n",
       "      <td>2018-06-23 12:00:00</td>\n",
       "      <td>2018-06-23</td>\n",
       "      <td>REGULAR</td>\n",
       "    </tr>\n",
       "    <tr>\n",
       "      <th>4</th>\n",
       "      <td>A002</td>\n",
       "      <td>R051</td>\n",
       "      <td>02-00-00</td>\n",
       "      <td>59 ST</td>\n",
       "      <td>NQR456W</td>\n",
       "      <td>6667534</td>\n",
       "      <td>2018-06-23 16:00:00</td>\n",
       "      <td>2018-06-23</td>\n",
       "      <td>REGULAR</td>\n",
       "    </tr>\n",
       "  </tbody>\n",
       "</table>\n",
       "</div>"
      ],
      "text/plain": [
       "    C/A  UNIT       SCP STATION LINENAME  ENTRIES           DATE_TIME  \\\n",
       "0  A002  R051  02-00-00   59 ST  NQR456W  6667150 2018-06-23 00:00:00   \n",
       "1  A002  R051  02-00-00   59 ST  NQR456W  6667173 2018-06-23 04:00:00   \n",
       "2  A002  R051  02-00-00   59 ST  NQR456W  6667189 2018-06-23 08:00:00   \n",
       "3  A002  R051  02-00-00   59 ST  NQR456W  6667305 2018-06-23 12:00:00   \n",
       "4  A002  R051  02-00-00   59 ST  NQR456W  6667534 2018-06-23 16:00:00   \n",
       "\n",
       "        DATE     DESC  \n",
       "0 2018-06-23  REGULAR  \n",
       "1 2018-06-23  REGULAR  \n",
       "2 2018-06-23  REGULAR  \n",
       "3 2018-06-23  REGULAR  \n",
       "4 2018-06-23  REGULAR  "
      ]
     },
     "execution_count": 73,
     "metadata": {},
     "output_type": "execute_result"
    }
   ],
   "source": [
    "time_series_df.head()"
   ]
  },
  {
   "cell_type": "code",
   "execution_count": 74,
   "metadata": {},
   "outputs": [
    {
     "data": {
      "text/plain": [
       "REGULAR    1.0\n",
       "Name: DESC, dtype: float64"
      ]
     },
     "execution_count": 74,
     "metadata": {},
     "output_type": "execute_result"
    }
   ],
   "source": [
    "time_series_df['DESC'].value_counts(normalize=True)"
   ]
  },
  {
   "cell_type": "markdown",
   "metadata": {},
   "source": [
    "**Subtract 1 minute from datatime object so that 'midnight' entries register as 11:59pm - as the prior day and not the next day**"
   ]
  },
  {
   "cell_type": "code",
   "execution_count": 75,
   "metadata": {},
   "outputs": [],
   "source": [
    "time_series_df.loc[:,'DATE_TIME'] = time_series_df.loc[:,'DATE_TIME'] - pd.Timedelta(minutes=1)"
   ]
  },
  {
   "cell_type": "code",
   "execution_count": 76,
   "metadata": {},
   "outputs": [
    {
     "data": {
      "text/html": [
       "<div>\n",
       "<style scoped>\n",
       "    .dataframe tbody tr th:only-of-type {\n",
       "        vertical-align: middle;\n",
       "    }\n",
       "\n",
       "    .dataframe tbody tr th {\n",
       "        vertical-align: top;\n",
       "    }\n",
       "\n",
       "    .dataframe thead th {\n",
       "        text-align: right;\n",
       "    }\n",
       "</style>\n",
       "<table border=\"1\" class=\"dataframe\">\n",
       "  <thead>\n",
       "    <tr style=\"text-align: right;\">\n",
       "      <th></th>\n",
       "      <th>C/A</th>\n",
       "      <th>UNIT</th>\n",
       "      <th>SCP</th>\n",
       "      <th>STATION</th>\n",
       "      <th>LINENAME</th>\n",
       "      <th>ENTRIES</th>\n",
       "      <th>DATE_TIME</th>\n",
       "      <th>DATE</th>\n",
       "      <th>DESC</th>\n",
       "    </tr>\n",
       "  </thead>\n",
       "  <tbody>\n",
       "    <tr>\n",
       "      <th>0</th>\n",
       "      <td>A002</td>\n",
       "      <td>R051</td>\n",
       "      <td>02-00-00</td>\n",
       "      <td>59 ST</td>\n",
       "      <td>NQR456W</td>\n",
       "      <td>6667150</td>\n",
       "      <td>2018-06-22 23:59:00</td>\n",
       "      <td>2018-06-23</td>\n",
       "      <td>REGULAR</td>\n",
       "    </tr>\n",
       "    <tr>\n",
       "      <th>1</th>\n",
       "      <td>A002</td>\n",
       "      <td>R051</td>\n",
       "      <td>02-00-00</td>\n",
       "      <td>59 ST</td>\n",
       "      <td>NQR456W</td>\n",
       "      <td>6667173</td>\n",
       "      <td>2018-06-23 03:59:00</td>\n",
       "      <td>2018-06-23</td>\n",
       "      <td>REGULAR</td>\n",
       "    </tr>\n",
       "    <tr>\n",
       "      <th>2</th>\n",
       "      <td>A002</td>\n",
       "      <td>R051</td>\n",
       "      <td>02-00-00</td>\n",
       "      <td>59 ST</td>\n",
       "      <td>NQR456W</td>\n",
       "      <td>6667189</td>\n",
       "      <td>2018-06-23 07:59:00</td>\n",
       "      <td>2018-06-23</td>\n",
       "      <td>REGULAR</td>\n",
       "    </tr>\n",
       "    <tr>\n",
       "      <th>3</th>\n",
       "      <td>A002</td>\n",
       "      <td>R051</td>\n",
       "      <td>02-00-00</td>\n",
       "      <td>59 ST</td>\n",
       "      <td>NQR456W</td>\n",
       "      <td>6667305</td>\n",
       "      <td>2018-06-23 11:59:00</td>\n",
       "      <td>2018-06-23</td>\n",
       "      <td>REGULAR</td>\n",
       "    </tr>\n",
       "    <tr>\n",
       "      <th>4</th>\n",
       "      <td>A002</td>\n",
       "      <td>R051</td>\n",
       "      <td>02-00-00</td>\n",
       "      <td>59 ST</td>\n",
       "      <td>NQR456W</td>\n",
       "      <td>6667534</td>\n",
       "      <td>2018-06-23 15:59:00</td>\n",
       "      <td>2018-06-23</td>\n",
       "      <td>REGULAR</td>\n",
       "    </tr>\n",
       "  </tbody>\n",
       "</table>\n",
       "</div>"
      ],
      "text/plain": [
       "    C/A  UNIT       SCP STATION LINENAME  ENTRIES           DATE_TIME  \\\n",
       "0  A002  R051  02-00-00   59 ST  NQR456W  6667150 2018-06-22 23:59:00   \n",
       "1  A002  R051  02-00-00   59 ST  NQR456W  6667173 2018-06-23 03:59:00   \n",
       "2  A002  R051  02-00-00   59 ST  NQR456W  6667189 2018-06-23 07:59:00   \n",
       "3  A002  R051  02-00-00   59 ST  NQR456W  6667305 2018-06-23 11:59:00   \n",
       "4  A002  R051  02-00-00   59 ST  NQR456W  6667534 2018-06-23 15:59:00   \n",
       "\n",
       "        DATE     DESC  \n",
       "0 2018-06-23  REGULAR  \n",
       "1 2018-06-23  REGULAR  \n",
       "2 2018-06-23  REGULAR  \n",
       "3 2018-06-23  REGULAR  \n",
       "4 2018-06-23  REGULAR  "
      ]
     },
     "execution_count": 76,
     "metadata": {},
     "output_type": "execute_result"
    }
   ],
   "source": [
    "time_series_df.head()"
   ]
  },
  {
   "cell_type": "markdown",
   "metadata": {},
   "source": [
    "**Create a new Date column with the YYYY-MM-DD format based on the dates after subtracting 1 minute** "
   ]
  },
  {
   "cell_type": "code",
   "execution_count": 77,
   "metadata": {},
   "outputs": [],
   "source": [
    "time_series_df.loc[:,'DATE'] = time_series_df.loc[:,'DATE_TIME'].dt.date"
   ]
  },
  {
   "cell_type": "code",
   "execution_count": 78,
   "metadata": {},
   "outputs": [
    {
     "data": {
      "text/html": [
       "<div>\n",
       "<style scoped>\n",
       "    .dataframe tbody tr th:only-of-type {\n",
       "        vertical-align: middle;\n",
       "    }\n",
       "\n",
       "    .dataframe tbody tr th {\n",
       "        vertical-align: top;\n",
       "    }\n",
       "\n",
       "    .dataframe thead th {\n",
       "        text-align: right;\n",
       "    }\n",
       "</style>\n",
       "<table border=\"1\" class=\"dataframe\">\n",
       "  <thead>\n",
       "    <tr style=\"text-align: right;\">\n",
       "      <th></th>\n",
       "      <th>C/A</th>\n",
       "      <th>UNIT</th>\n",
       "      <th>SCP</th>\n",
       "      <th>STATION</th>\n",
       "      <th>LINENAME</th>\n",
       "      <th>ENTRIES</th>\n",
       "      <th>DATE_TIME</th>\n",
       "      <th>DATE</th>\n",
       "      <th>DESC</th>\n",
       "    </tr>\n",
       "  </thead>\n",
       "  <tbody>\n",
       "    <tr>\n",
       "      <th>0</th>\n",
       "      <td>A002</td>\n",
       "      <td>R051</td>\n",
       "      <td>02-00-00</td>\n",
       "      <td>59 ST</td>\n",
       "      <td>NQR456W</td>\n",
       "      <td>6667150</td>\n",
       "      <td>2018-06-22 23:59:00</td>\n",
       "      <td>2018-06-22</td>\n",
       "      <td>REGULAR</td>\n",
       "    </tr>\n",
       "    <tr>\n",
       "      <th>1</th>\n",
       "      <td>A002</td>\n",
       "      <td>R051</td>\n",
       "      <td>02-00-00</td>\n",
       "      <td>59 ST</td>\n",
       "      <td>NQR456W</td>\n",
       "      <td>6667173</td>\n",
       "      <td>2018-06-23 03:59:00</td>\n",
       "      <td>2018-06-23</td>\n",
       "      <td>REGULAR</td>\n",
       "    </tr>\n",
       "    <tr>\n",
       "      <th>2</th>\n",
       "      <td>A002</td>\n",
       "      <td>R051</td>\n",
       "      <td>02-00-00</td>\n",
       "      <td>59 ST</td>\n",
       "      <td>NQR456W</td>\n",
       "      <td>6667189</td>\n",
       "      <td>2018-06-23 07:59:00</td>\n",
       "      <td>2018-06-23</td>\n",
       "      <td>REGULAR</td>\n",
       "    </tr>\n",
       "    <tr>\n",
       "      <th>3</th>\n",
       "      <td>A002</td>\n",
       "      <td>R051</td>\n",
       "      <td>02-00-00</td>\n",
       "      <td>59 ST</td>\n",
       "      <td>NQR456W</td>\n",
       "      <td>6667305</td>\n",
       "      <td>2018-06-23 11:59:00</td>\n",
       "      <td>2018-06-23</td>\n",
       "      <td>REGULAR</td>\n",
       "    </tr>\n",
       "    <tr>\n",
       "      <th>4</th>\n",
       "      <td>A002</td>\n",
       "      <td>R051</td>\n",
       "      <td>02-00-00</td>\n",
       "      <td>59 ST</td>\n",
       "      <td>NQR456W</td>\n",
       "      <td>6667534</td>\n",
       "      <td>2018-06-23 15:59:00</td>\n",
       "      <td>2018-06-23</td>\n",
       "      <td>REGULAR</td>\n",
       "    </tr>\n",
       "  </tbody>\n",
       "</table>\n",
       "</div>"
      ],
      "text/plain": [
       "    C/A  UNIT       SCP STATION LINENAME  ENTRIES           DATE_TIME  \\\n",
       "0  A002  R051  02-00-00   59 ST  NQR456W  6667150 2018-06-22 23:59:00   \n",
       "1  A002  R051  02-00-00   59 ST  NQR456W  6667173 2018-06-23 03:59:00   \n",
       "2  A002  R051  02-00-00   59 ST  NQR456W  6667189 2018-06-23 07:59:00   \n",
       "3  A002  R051  02-00-00   59 ST  NQR456W  6667305 2018-06-23 11:59:00   \n",
       "4  A002  R051  02-00-00   59 ST  NQR456W  6667534 2018-06-23 15:59:00   \n",
       "\n",
       "         DATE     DESC  \n",
       "0  2018-06-22  REGULAR  \n",
       "1  2018-06-23  REGULAR  \n",
       "2  2018-06-23  REGULAR  \n",
       "3  2018-06-23  REGULAR  \n",
       "4  2018-06-23  REGULAR  "
      ]
     },
     "execution_count": 78,
     "metadata": {},
     "output_type": "execute_result"
    }
   ],
   "source": [
    "time_series_df.head()"
   ]
  },
  {
   "cell_type": "markdown",
   "metadata": {},
   "source": [
    "**Look at what the time intervals are between measurements - first sort the dataset so entries are within chronological order** "
   ]
  },
  {
   "cell_type": "code",
   "execution_count": 79,
   "metadata": {},
   "outputs": [],
   "source": [
    "# sort by DATE_TIME within station/linenames\n",
    "time_series_df = deepcopy(time_series_df.sort_values(by=['C/A','UNIT','SCP','STATION','LINENAME','DATE_TIME']))"
   ]
  },
  {
   "cell_type": "code",
   "execution_count": 80,
   "metadata": {},
   "outputs": [
    {
     "data": {
      "text/html": [
       "<div>\n",
       "<style scoped>\n",
       "    .dataframe tbody tr th:only-of-type {\n",
       "        vertical-align: middle;\n",
       "    }\n",
       "\n",
       "    .dataframe tbody tr th {\n",
       "        vertical-align: top;\n",
       "    }\n",
       "\n",
       "    .dataframe thead th {\n",
       "        text-align: right;\n",
       "    }\n",
       "</style>\n",
       "<table border=\"1\" class=\"dataframe\">\n",
       "  <thead>\n",
       "    <tr style=\"text-align: right;\">\n",
       "      <th></th>\n",
       "      <th>C/A</th>\n",
       "      <th>UNIT</th>\n",
       "      <th>SCP</th>\n",
       "      <th>STATION</th>\n",
       "      <th>LINENAME</th>\n",
       "      <th>ENTRIES</th>\n",
       "      <th>DATE_TIME</th>\n",
       "      <th>DATE</th>\n",
       "      <th>DESC</th>\n",
       "    </tr>\n",
       "  </thead>\n",
       "  <tbody>\n",
       "    <tr>\n",
       "      <th>0</th>\n",
       "      <td>A002</td>\n",
       "      <td>R051</td>\n",
       "      <td>02-00-00</td>\n",
       "      <td>59 ST</td>\n",
       "      <td>NQR456W</td>\n",
       "      <td>6566463</td>\n",
       "      <td>2018-03-30 23:59:00</td>\n",
       "      <td>2018-03-30</td>\n",
       "      <td>REGULAR</td>\n",
       "    </tr>\n",
       "    <tr>\n",
       "      <th>1</th>\n",
       "      <td>A002</td>\n",
       "      <td>R051</td>\n",
       "      <td>02-00-00</td>\n",
       "      <td>59 ST</td>\n",
       "      <td>NQR456W</td>\n",
       "      <td>6566470</td>\n",
       "      <td>2018-03-31 03:59:00</td>\n",
       "      <td>2018-03-31</td>\n",
       "      <td>REGULAR</td>\n",
       "    </tr>\n",
       "    <tr>\n",
       "      <th>2</th>\n",
       "      <td>A002</td>\n",
       "      <td>R051</td>\n",
       "      <td>02-00-00</td>\n",
       "      <td>59 ST</td>\n",
       "      <td>NQR456W</td>\n",
       "      <td>6566470</td>\n",
       "      <td>2018-03-31 07:59:00</td>\n",
       "      <td>2018-03-31</td>\n",
       "      <td>REGULAR</td>\n",
       "    </tr>\n",
       "    <tr>\n",
       "      <th>3</th>\n",
       "      <td>A002</td>\n",
       "      <td>R051</td>\n",
       "      <td>02-00-00</td>\n",
       "      <td>59 ST</td>\n",
       "      <td>NQR456W</td>\n",
       "      <td>6566470</td>\n",
       "      <td>2018-03-31 11:59:00</td>\n",
       "      <td>2018-03-31</td>\n",
       "      <td>REGULAR</td>\n",
       "    </tr>\n",
       "    <tr>\n",
       "      <th>4</th>\n",
       "      <td>A002</td>\n",
       "      <td>R051</td>\n",
       "      <td>02-00-00</td>\n",
       "      <td>59 ST</td>\n",
       "      <td>NQR456W</td>\n",
       "      <td>6566470</td>\n",
       "      <td>2018-03-31 15:59:00</td>\n",
       "      <td>2018-03-31</td>\n",
       "      <td>REGULAR</td>\n",
       "    </tr>\n",
       "  </tbody>\n",
       "</table>\n",
       "</div>"
      ],
      "text/plain": [
       "    C/A  UNIT       SCP STATION LINENAME  ENTRIES           DATE_TIME  \\\n",
       "0  A002  R051  02-00-00   59 ST  NQR456W  6566463 2018-03-30 23:59:00   \n",
       "1  A002  R051  02-00-00   59 ST  NQR456W  6566470 2018-03-31 03:59:00   \n",
       "2  A002  R051  02-00-00   59 ST  NQR456W  6566470 2018-03-31 07:59:00   \n",
       "3  A002  R051  02-00-00   59 ST  NQR456W  6566470 2018-03-31 11:59:00   \n",
       "4  A002  R051  02-00-00   59 ST  NQR456W  6566470 2018-03-31 15:59:00   \n",
       "\n",
       "         DATE     DESC  \n",
       "0  2018-03-30  REGULAR  \n",
       "1  2018-03-31  REGULAR  \n",
       "2  2018-03-31  REGULAR  \n",
       "3  2018-03-31  REGULAR  \n",
       "4  2018-03-31  REGULAR  "
      ]
     },
     "execution_count": 80,
     "metadata": {},
     "output_type": "execute_result"
    }
   ],
   "source": [
    "time_series_df.head()"
   ]
  },
  {
   "cell_type": "code",
   "execution_count": 81,
   "metadata": {},
   "outputs": [],
   "source": [
    "group_vals = ['C/A', 'UNIT', 'SCP','STATION', 'LINENAME']"
   ]
  },
  {
   "cell_type": "markdown",
   "metadata": {},
   "source": [
    "**Get time difference between an entry and the entry before it**"
   ]
  },
  {
   "cell_type": "code",
   "execution_count": 82,
   "metadata": {},
   "outputs": [],
   "source": [
    "time_intervals = time_series_df.groupby(by=group_vals)['DATE_TIME'].transform(lambda x: x.diff())"
   ]
  },
  {
   "cell_type": "code",
   "execution_count": 83,
   "metadata": {},
   "outputs": [
    {
     "data": {
      "text/plain": [
       "04:00:00    0.928307\n",
       "04:12:00    0.062163\n",
       "08:00:00    0.002133\n",
       "04:26:00    0.000714\n",
       "00:01:20    0.000685\n",
       "Name: DATE_TIME, dtype: float64"
      ]
     },
     "execution_count": 83,
     "metadata": {},
     "output_type": "execute_result"
    }
   ],
   "source": [
    "time_intervals.value_counts(normalize=True).head()"
   ]
  },
  {
   "cell_type": "markdown",
   "metadata": {},
   "source": [
    "The vast majority of time intervals are 4-hour time intervals.    "
   ]
  },
  {
   "cell_type": "code",
   "execution_count": 84,
   "metadata": {},
   "outputs": [],
   "source": [
    "time_series_df[\"TIME_INTERVAL\"] = time_intervals"
   ]
  },
  {
   "cell_type": "code",
   "execution_count": 85,
   "metadata": {},
   "outputs": [
    {
     "data": {
      "text/html": [
       "<div>\n",
       "<style scoped>\n",
       "    .dataframe tbody tr th:only-of-type {\n",
       "        vertical-align: middle;\n",
       "    }\n",
       "\n",
       "    .dataframe tbody tr th {\n",
       "        vertical-align: top;\n",
       "    }\n",
       "\n",
       "    .dataframe thead th {\n",
       "        text-align: right;\n",
       "    }\n",
       "</style>\n",
       "<table border=\"1\" class=\"dataframe\">\n",
       "  <thead>\n",
       "    <tr style=\"text-align: right;\">\n",
       "      <th></th>\n",
       "      <th>C/A</th>\n",
       "      <th>UNIT</th>\n",
       "      <th>SCP</th>\n",
       "      <th>STATION</th>\n",
       "      <th>LINENAME</th>\n",
       "      <th>ENTRIES</th>\n",
       "      <th>DATE_TIME</th>\n",
       "      <th>DATE</th>\n",
       "      <th>DESC</th>\n",
       "      <th>TIME_INTERVAL</th>\n",
       "    </tr>\n",
       "  </thead>\n",
       "  <tbody>\n",
       "    <tr>\n",
       "      <th>0</th>\n",
       "      <td>A002</td>\n",
       "      <td>R051</td>\n",
       "      <td>02-00-00</td>\n",
       "      <td>59 ST</td>\n",
       "      <td>NQR456W</td>\n",
       "      <td>6566463</td>\n",
       "      <td>2018-03-30 23:59:00</td>\n",
       "      <td>2018-03-30</td>\n",
       "      <td>REGULAR</td>\n",
       "      <td>NaT</td>\n",
       "    </tr>\n",
       "    <tr>\n",
       "      <th>1</th>\n",
       "      <td>A002</td>\n",
       "      <td>R051</td>\n",
       "      <td>02-00-00</td>\n",
       "      <td>59 ST</td>\n",
       "      <td>NQR456W</td>\n",
       "      <td>6566470</td>\n",
       "      <td>2018-03-31 03:59:00</td>\n",
       "      <td>2018-03-31</td>\n",
       "      <td>REGULAR</td>\n",
       "      <td>04:00:00</td>\n",
       "    </tr>\n",
       "    <tr>\n",
       "      <th>2</th>\n",
       "      <td>A002</td>\n",
       "      <td>R051</td>\n",
       "      <td>02-00-00</td>\n",
       "      <td>59 ST</td>\n",
       "      <td>NQR456W</td>\n",
       "      <td>6566470</td>\n",
       "      <td>2018-03-31 07:59:00</td>\n",
       "      <td>2018-03-31</td>\n",
       "      <td>REGULAR</td>\n",
       "      <td>04:00:00</td>\n",
       "    </tr>\n",
       "    <tr>\n",
       "      <th>3</th>\n",
       "      <td>A002</td>\n",
       "      <td>R051</td>\n",
       "      <td>02-00-00</td>\n",
       "      <td>59 ST</td>\n",
       "      <td>NQR456W</td>\n",
       "      <td>6566470</td>\n",
       "      <td>2018-03-31 11:59:00</td>\n",
       "      <td>2018-03-31</td>\n",
       "      <td>REGULAR</td>\n",
       "      <td>04:00:00</td>\n",
       "    </tr>\n",
       "    <tr>\n",
       "      <th>4</th>\n",
       "      <td>A002</td>\n",
       "      <td>R051</td>\n",
       "      <td>02-00-00</td>\n",
       "      <td>59 ST</td>\n",
       "      <td>NQR456W</td>\n",
       "      <td>6566470</td>\n",
       "      <td>2018-03-31 15:59:00</td>\n",
       "      <td>2018-03-31</td>\n",
       "      <td>REGULAR</td>\n",
       "      <td>04:00:00</td>\n",
       "    </tr>\n",
       "  </tbody>\n",
       "</table>\n",
       "</div>"
      ],
      "text/plain": [
       "    C/A  UNIT       SCP STATION LINENAME  ENTRIES           DATE_TIME  \\\n",
       "0  A002  R051  02-00-00   59 ST  NQR456W  6566463 2018-03-30 23:59:00   \n",
       "1  A002  R051  02-00-00   59 ST  NQR456W  6566470 2018-03-31 03:59:00   \n",
       "2  A002  R051  02-00-00   59 ST  NQR456W  6566470 2018-03-31 07:59:00   \n",
       "3  A002  R051  02-00-00   59 ST  NQR456W  6566470 2018-03-31 11:59:00   \n",
       "4  A002  R051  02-00-00   59 ST  NQR456W  6566470 2018-03-31 15:59:00   \n",
       "\n",
       "         DATE     DESC TIME_INTERVAL  \n",
       "0  2018-03-30  REGULAR           NaT  \n",
       "1  2018-03-31  REGULAR      04:00:00  \n",
       "2  2018-03-31  REGULAR      04:00:00  \n",
       "3  2018-03-31  REGULAR      04:00:00  \n",
       "4  2018-03-31  REGULAR      04:00:00  "
      ]
     },
     "execution_count": 85,
     "metadata": {},
     "output_type": "execute_result"
    }
   ],
   "source": [
    "time_series_df.head()"
   ]
  },
  {
   "cell_type": "markdown",
   "metadata": {},
   "source": [
    "**Get entries per time interval**"
   ]
  },
  {
   "cell_type": "code",
   "execution_count": 86,
   "metadata": {},
   "outputs": [],
   "source": [
    "entry_diff_per_turnstile_interval = time_series_df.groupby(by=['C/A', 'UNIT', 'SCP','STATION', 'LINENAME'])['ENTRIES'].transform(lambda x: x.diff())"
   ]
  },
  {
   "cell_type": "code",
   "execution_count": 87,
   "metadata": {},
   "outputs": [],
   "source": [
    "time_series_df[\"ENTRY_DIFF\"] = entry_diff_per_turnstile_interval"
   ]
  },
  {
   "cell_type": "markdown",
   "metadata": {},
   "source": [
    "**Check for what percent of entries are negative and should be cleaned from the dataset**"
   ]
  },
  {
   "cell_type": "code",
   "execution_count": 88,
   "metadata": {},
   "outputs": [
    {
     "data": {
      "text/plain": [
       "21645"
      ]
     },
     "execution_count": 88,
     "metadata": {},
     "output_type": "execute_result"
    }
   ],
   "source": [
    "(time_series_df[time_series_df[\"ENTRY_DIFF\"] < 0].shape[0]) #/time_series_df.shape[0]"
   ]
  },
  {
   "cell_type": "code",
   "execution_count": 89,
   "metadata": {},
   "outputs": [
    {
     "data": {
      "text/plain": [
       "2553522"
      ]
     },
     "execution_count": 89,
     "metadata": {},
     "output_type": "execute_result"
    }
   ],
   "source": [
    "time_series_df.shape[0]"
   ]
  },
  {
   "cell_type": "markdown",
   "metadata": {},
   "source": [
    "**Remove entries with negative numbers from the dataset. This code will also remove null entry values (the first entry value for each date in a turnstile group is null because there is no prior date to compare to)**"
   ]
  },
  {
   "cell_type": "code",
   "execution_count": 96,
   "metadata": {},
   "outputs": [],
   "source": [
    "time_series_df = time_series_df[time_series_df.ENTRY_DIFF >= 0]"
   ]
  },
  {
   "cell_type": "code",
   "execution_count": 97,
   "metadata": {},
   "outputs": [
    {
     "data": {
      "text/plain": [
       "(2527121, 11)"
      ]
     },
     "execution_count": 97,
     "metadata": {},
     "output_type": "execute_result"
    }
   ],
   "source": [
    "time_series_df.shape"
   ]
  },
  {
   "cell_type": "markdown",
   "metadata": {},
   "source": [
    "**Check if there are unique STATION-LINENAME combinations**  \n",
    "\n",
    "Some info about the variables: \"a control area is kind of like a 'station' for a specific line, a remote unit is kind of like a 'booth' so the same station can have a couple booths, and the subunit channel position could represent a turnstile, but could also represent a collection of turnstiles\""
   ]
  },
  {
   "cell_type": "code",
   "execution_count": 98,
   "metadata": {},
   "outputs": [
    {
     "data": {
      "text/plain": [
       "477"
      ]
     },
     "execution_count": 98,
     "metadata": {},
     "output_type": "execute_result"
    }
   ],
   "source": [
    "time_series_df.groupby(by=['STATION', 'LINENAME']).ngroups"
   ]
  },
  {
   "cell_type": "code",
   "execution_count": 99,
   "metadata": {},
   "outputs": [
    {
     "data": {
      "text/plain": [
       "377"
      ]
     },
     "execution_count": 99,
     "metadata": {},
     "output_type": "execute_result"
    }
   ],
   "source": [
    "time_series_df.groupby(by=['STATION']).ngroups"
   ]
  },
  {
   "cell_type": "code",
   "execution_count": 100,
   "metadata": {},
   "outputs": [
    {
     "data": {
      "text/plain": [
       "496"
      ]
     },
     "execution_count": 100,
     "metadata": {},
     "output_type": "execute_result"
    }
   ],
   "source": [
    "time_series_df.groupby(by=['UNIT', 'STATION', 'LINENAME']).ngroups"
   ]
  },
  {
   "cell_type": "code",
   "execution_count": 101,
   "metadata": {},
   "outputs": [
    {
     "data": {
      "text/plain": [
       "468"
      ]
     },
     "execution_count": 101,
     "metadata": {},
     "output_type": "execute_result"
    }
   ],
   "source": [
    "time_series_df.groupby(by='UNIT').ngroups"
   ]
  },
  {
   "cell_type": "code",
   "execution_count": 102,
   "metadata": {},
   "outputs": [
    {
     "data": {
      "text/html": [
       "<div>\n",
       "<style scoped>\n",
       "    .dataframe tbody tr th:only-of-type {\n",
       "        vertical-align: middle;\n",
       "    }\n",
       "\n",
       "    .dataframe tbody tr th {\n",
       "        vertical-align: top;\n",
       "    }\n",
       "\n",
       "    .dataframe thead th {\n",
       "        text-align: right;\n",
       "    }\n",
       "</style>\n",
       "<table border=\"1\" class=\"dataframe\">\n",
       "  <thead>\n",
       "    <tr style=\"text-align: right;\">\n",
       "      <th></th>\n",
       "      <th>C/A</th>\n",
       "      <th>UNIT</th>\n",
       "      <th>SCP</th>\n",
       "      <th>STATION</th>\n",
       "      <th>LINENAME</th>\n",
       "      <th>ENTRIES</th>\n",
       "      <th>DATE_TIME</th>\n",
       "      <th>DATE</th>\n",
       "      <th>DESC</th>\n",
       "      <th>TIME_INTERVAL</th>\n",
       "      <th>ENTRY_DIFF</th>\n",
       "    </tr>\n",
       "  </thead>\n",
       "  <tbody>\n",
       "    <tr>\n",
       "      <th>1</th>\n",
       "      <td>A002</td>\n",
       "      <td>R051</td>\n",
       "      <td>02-00-00</td>\n",
       "      <td>59 ST</td>\n",
       "      <td>NQR456W</td>\n",
       "      <td>6566470</td>\n",
       "      <td>2018-03-31 03:59:00</td>\n",
       "      <td>2018-03-31</td>\n",
       "      <td>REGULAR</td>\n",
       "      <td>04:00:00</td>\n",
       "      <td>7.0</td>\n",
       "    </tr>\n",
       "    <tr>\n",
       "      <th>2</th>\n",
       "      <td>A002</td>\n",
       "      <td>R051</td>\n",
       "      <td>02-00-00</td>\n",
       "      <td>59 ST</td>\n",
       "      <td>NQR456W</td>\n",
       "      <td>6566470</td>\n",
       "      <td>2018-03-31 07:59:00</td>\n",
       "      <td>2018-03-31</td>\n",
       "      <td>REGULAR</td>\n",
       "      <td>04:00:00</td>\n",
       "      <td>0.0</td>\n",
       "    </tr>\n",
       "    <tr>\n",
       "      <th>3</th>\n",
       "      <td>A002</td>\n",
       "      <td>R051</td>\n",
       "      <td>02-00-00</td>\n",
       "      <td>59 ST</td>\n",
       "      <td>NQR456W</td>\n",
       "      <td>6566470</td>\n",
       "      <td>2018-03-31 11:59:00</td>\n",
       "      <td>2018-03-31</td>\n",
       "      <td>REGULAR</td>\n",
       "      <td>04:00:00</td>\n",
       "      <td>0.0</td>\n",
       "    </tr>\n",
       "    <tr>\n",
       "      <th>4</th>\n",
       "      <td>A002</td>\n",
       "      <td>R051</td>\n",
       "      <td>02-00-00</td>\n",
       "      <td>59 ST</td>\n",
       "      <td>NQR456W</td>\n",
       "      <td>6566470</td>\n",
       "      <td>2018-03-31 15:59:00</td>\n",
       "      <td>2018-03-31</td>\n",
       "      <td>REGULAR</td>\n",
       "      <td>04:00:00</td>\n",
       "      <td>0.0</td>\n",
       "    </tr>\n",
       "    <tr>\n",
       "      <th>5</th>\n",
       "      <td>A002</td>\n",
       "      <td>R051</td>\n",
       "      <td>02-00-00</td>\n",
       "      <td>59 ST</td>\n",
       "      <td>NQR456W</td>\n",
       "      <td>6566470</td>\n",
       "      <td>2018-03-31 19:59:00</td>\n",
       "      <td>2018-03-31</td>\n",
       "      <td>REGULAR</td>\n",
       "      <td>04:00:00</td>\n",
       "      <td>0.0</td>\n",
       "    </tr>\n",
       "  </tbody>\n",
       "</table>\n",
       "</div>"
      ],
      "text/plain": [
       "    C/A  UNIT       SCP STATION LINENAME  ENTRIES           DATE_TIME  \\\n",
       "1  A002  R051  02-00-00   59 ST  NQR456W  6566470 2018-03-31 03:59:00   \n",
       "2  A002  R051  02-00-00   59 ST  NQR456W  6566470 2018-03-31 07:59:00   \n",
       "3  A002  R051  02-00-00   59 ST  NQR456W  6566470 2018-03-31 11:59:00   \n",
       "4  A002  R051  02-00-00   59 ST  NQR456W  6566470 2018-03-31 15:59:00   \n",
       "5  A002  R051  02-00-00   59 ST  NQR456W  6566470 2018-03-31 19:59:00   \n",
       "\n",
       "         DATE     DESC TIME_INTERVAL  ENTRY_DIFF  \n",
       "1  2018-03-31  REGULAR      04:00:00         7.0  \n",
       "2  2018-03-31  REGULAR      04:00:00         0.0  \n",
       "3  2018-03-31  REGULAR      04:00:00         0.0  \n",
       "4  2018-03-31  REGULAR      04:00:00         0.0  \n",
       "5  2018-03-31  REGULAR      04:00:00         0.0  "
      ]
     },
     "execution_count": 102,
     "metadata": {},
     "output_type": "execute_result"
    }
   ],
   "source": [
    "time_series_df.head()"
   ]
  },
  {
   "cell_type": "markdown",
   "metadata": {},
   "source": [
    "**Check for outrageously high values from the 4-hour time intervals**"
   ]
  },
  {
   "cell_type": "code",
   "execution_count": 104,
   "metadata": {},
   "outputs": [
    {
     "data": {
      "text/plain": [
       "2105700124.0"
      ]
     },
     "execution_count": 104,
     "metadata": {},
     "output_type": "execute_result"
    }
   ],
   "source": [
    "time_series_df['ENTRY_DIFF'].max()"
   ]
  },
  {
   "cell_type": "markdown",
   "metadata": {},
   "source": [
    "##### **Get 99% percentile of data**  \n",
    "This value is very low - because there are many zeros in the dataset for 4-hour intervals where no one went in the subway (12am-4am at smaller stations for example), the confidence interval shifts to the left. We might be better off capping data at 500,000 and seeing how the data looks. "
   ]
  },
  {
   "cell_type": "code",
   "execution_count": 143,
   "metadata": {},
   "outputs": [
    {
     "data": {
      "text/plain": [
       "1954.0"
      ]
     },
     "execution_count": 143,
     "metadata": {},
     "output_type": "execute_result"
    }
   ],
   "source": [
    "time_series_df.ENTRY_DIFF.quantile(0.999)"
   ]
  },
  {
   "cell_type": "markdown",
   "metadata": {},
   "source": [
    "**Histogram of entries per 4 hours to see if any are outrageous** "
   ]
  },
  {
   "cell_type": "code",
   "execution_count": 121,
   "metadata": {},
   "outputs": [
    {
     "data": {
      "image/png": "[encoded data removed]",
      "text/plain": [
       "<Figure size 432x288 with 1 Axes>"
      ]
     },
     "metadata": {},
     "output_type": "display_data"
    }
   ],
   "source": [
    "x = list(time_series_df['ENTRY_DIFF'])\n",
    "plt.hist(x);"
   ]
  },
  {
   "cell_type": "code",
   "execution_count": 111,
   "metadata": {},
   "outputs": [
    {
     "data": {
      "image/png": "[encoded data removed]",
      "text/plain": [
       "<Figure size 432x288 with 1 Axes>"
      ]
     },
     "metadata": {},
     "output_type": "display_data"
    }
   ],
   "source": [
    "x = list(time_series_df['ENTRY_DIFF'])\n",
    "plt.hist(x, range=(4000,1000000));"
   ]
  },
  {
   "cell_type": "code",
   "execution_count": 132,
   "metadata": {},
   "outputs": [
    {
     "data": {
      "image/png": "[encoded data removed]",
      "text/plain": [
       "<Figure size 432x288 with 1 Axes>"
      ]
     },
     "metadata": {},
     "output_type": "display_data"
    }
   ],
   "source": [
    "x = list(time_series_df['ENTRY_DIFF'])\n",
    "plt.hist(x, range=(1000000,10000000));"
   ]
  },
  {
   "cell_type": "code",
   "execution_count": 137,
   "metadata": {},
   "outputs": [],
   "source": [
    "time_series_df = time_series_df[time_series_df.ENTRY_DIFF < 500000]"
   ]
  },
  {
   "cell_type": "markdown",
   "metadata": {},
   "source": [
    "**Entries per day at each subway station**"
   ]
  },
  {
   "cell_type": "code",
   "execution_count": 181,
   "metadata": {},
   "outputs": [],
   "source": [
    "grouping = ['STATION','DATE']"
   ]
  },
  {
   "cell_type": "code",
   "execution_count": 182,
   "metadata": {},
   "outputs": [],
   "source": [
    "daily_entries_per_station = time_series_df.groupby(by=grouping)['ENTRY_DIFF'].sum().reset_index()"
   ]
  },
  {
   "cell_type": "code",
   "execution_count": 183,
   "metadata": {},
   "outputs": [
    {
     "data": {
      "text/plain": [
       "897951.0"
      ]
     },
     "execution_count": 183,
     "metadata": {},
     "output_type": "execute_result"
    }
   ],
   "source": [
    "daily_entries_per_station['ENTRY_DIFF'].max()"
   ]
  },
  {
   "cell_type": "code",
   "execution_count": 184,
   "metadata": {},
   "outputs": [
    {
     "data": {
      "text/plain": [
       "151"
      ]
     },
     "execution_count": 184,
     "metadata": {},
     "output_type": "execute_result"
    }
   ],
   "source": [
    "zero_mask = (daily_entries_per_station.ENTRY_DIFF == 0)\n",
    "daily_entries_per_station[zero_mask].shape[0]"
   ]
  },
  {
   "cell_type": "markdown",
   "metadata": {},
   "source": [
    "**Remove days with zero entries from the dataset**"
   ]
  },
  {
   "cell_type": "code",
   "execution_count": 185,
   "metadata": {},
   "outputs": [],
   "source": [
    "daily_entries_per_station = daily_entries_per_station[daily_entries_per_station.ENTRY_DIFF != 0]"
   ]
  },
  {
   "cell_type": "code",
   "execution_count": 186,
   "metadata": {},
   "outputs": [
    {
     "data": {
      "text/plain": [
       "(33872, 3)"
      ]
     },
     "execution_count": 186,
     "metadata": {},
     "output_type": "execute_result"
    }
   ],
   "source": [
    "daily_entries_per_station.shape"
   ]
  },
  {
   "cell_type": "markdown",
   "metadata": {},
   "source": [
    "**Find top 20 stations by average daily entries: by STATION**"
   ]
  },
  {
   "cell_type": "code",
   "execution_count": 187,
   "metadata": {},
   "outputs": [],
   "source": [
    "mean_entries_per_station = daily_entries_per_station.groupby(by=['STATION'])['ENTRY_DIFF'].mean().reset_index()"
   ]
  },
  {
   "cell_type": "code",
   "execution_count": 188,
   "metadata": {},
   "outputs": [
    {
     "data": {
      "text/html": [
       "<div>\n",
       "<style scoped>\n",
       "    .dataframe tbody tr th:only-of-type {\n",
       "        vertical-align: middle;\n",
       "    }\n",
       "\n",
       "    .dataframe tbody tr th {\n",
       "        vertical-align: top;\n",
       "    }\n",
       "\n",
       "    .dataframe thead th {\n",
       "        text-align: right;\n",
       "    }\n",
       "</style>\n",
       "<table border=\"1\" class=\"dataframe\">\n",
       "  <thead>\n",
       "    <tr style=\"text-align: right;\">\n",
       "      <th></th>\n",
       "      <th>STATION</th>\n",
       "      <th>ENTRY_DIFF</th>\n",
       "    </tr>\n",
       "  </thead>\n",
       "  <tbody>\n",
       "    <tr>\n",
       "      <th>60</th>\n",
       "      <td>34 ST-PENN STA</td>\n",
       "      <td>148853.472527</td>\n",
       "    </tr>\n",
       "    <tr>\n",
       "      <th>232</th>\n",
       "      <td>GRD CNTRL-42 ST</td>\n",
       "      <td>125024.857143</td>\n",
       "    </tr>\n",
       "    <tr>\n",
       "      <th>58</th>\n",
       "      <td>34 ST-HERALD SQ</td>\n",
       "      <td>98418.098901</td>\n",
       "    </tr>\n",
       "    <tr>\n",
       "      <th>45</th>\n",
       "      <td>23 ST</td>\n",
       "      <td>97239.186813</td>\n",
       "    </tr>\n",
       "    <tr>\n",
       "      <th>14</th>\n",
       "      <td>14 ST-UNION SQ</td>\n",
       "      <td>96659.197802</td>\n",
       "    </tr>\n",
       "    <tr>\n",
       "      <th>352</th>\n",
       "      <td>TIMES SQ-42 ST</td>\n",
       "      <td>89847.736264</td>\n",
       "    </tr>\n",
       "    <tr>\n",
       "      <th>225</th>\n",
       "      <td>FULTON ST</td>\n",
       "      <td>83808.208791</td>\n",
       "    </tr>\n",
       "    <tr>\n",
       "      <th>67</th>\n",
       "      <td>42 ST-PORT AUTH</td>\n",
       "      <td>82937.736264</td>\n",
       "    </tr>\n",
       "    <tr>\n",
       "      <th>109</th>\n",
       "      <td>86 ST</td>\n",
       "      <td>73454.659341</td>\n",
       "    </tr>\n",
       "    <tr>\n",
       "      <th>9</th>\n",
       "      <td>125 ST</td>\n",
       "      <td>67548.054945</td>\n",
       "    </tr>\n",
       "    <tr>\n",
       "      <th>172</th>\n",
       "      <td>CANAL ST</td>\n",
       "      <td>66067.065934</td>\n",
       "    </tr>\n",
       "    <tr>\n",
       "      <th>85</th>\n",
       "      <td>59 ST COLUMBUS</td>\n",
       "      <td>65273.087912</td>\n",
       "    </tr>\n",
       "    <tr>\n",
       "      <th>84</th>\n",
       "      <td>59 ST</td>\n",
       "      <td>61685.263736</td>\n",
       "    </tr>\n",
       "    <tr>\n",
       "      <th>114</th>\n",
       "      <td>96 ST</td>\n",
       "      <td>55583.417582</td>\n",
       "    </tr>\n",
       "    <tr>\n",
       "      <th>216</th>\n",
       "      <td>FLUSHING-MAIN</td>\n",
       "      <td>50873.912088</td>\n",
       "    </tr>\n",
       "    <tr>\n",
       "      <th>179</th>\n",
       "      <td>CHAMBERS ST</td>\n",
       "      <td>50616.252747</td>\n",
       "    </tr>\n",
       "    <tr>\n",
       "      <th>13</th>\n",
       "      <td>14 ST</td>\n",
       "      <td>50112.373626</td>\n",
       "    </tr>\n",
       "    <tr>\n",
       "      <th>314</th>\n",
       "      <td>PATH NEW WTC</td>\n",
       "      <td>47102.956044</td>\n",
       "    </tr>\n",
       "    <tr>\n",
       "      <th>71</th>\n",
       "      <td>47-50 STS ROCK</td>\n",
       "      <td>46632.644444</td>\n",
       "    </tr>\n",
       "    <tr>\n",
       "      <th>256</th>\n",
       "      <td>JKSN HT-ROOSVLT</td>\n",
       "      <td>45564.549451</td>\n",
       "    </tr>\n",
       "  </tbody>\n",
       "</table>\n",
       "</div>"
      ],
      "text/plain": [
       "             STATION     ENTRY_DIFF\n",
       "60    34 ST-PENN STA  148853.472527\n",
       "232  GRD CNTRL-42 ST  125024.857143\n",
       "58   34 ST-HERALD SQ   98418.098901\n",
       "45             23 ST   97239.186813\n",
       "14    14 ST-UNION SQ   96659.197802\n",
       "352   TIMES SQ-42 ST   89847.736264\n",
       "225        FULTON ST   83808.208791\n",
       "67   42 ST-PORT AUTH   82937.736264\n",
       "109            86 ST   73454.659341\n",
       "9             125 ST   67548.054945\n",
       "172         CANAL ST   66067.065934\n",
       "85    59 ST COLUMBUS   65273.087912\n",
       "84             59 ST   61685.263736\n",
       "114            96 ST   55583.417582\n",
       "216    FLUSHING-MAIN   50873.912088\n",
       "179      CHAMBERS ST   50616.252747\n",
       "13             14 ST   50112.373626\n",
       "314     PATH NEW WTC   47102.956044\n",
       "71    47-50 STS ROCK   46632.644444\n",
       "256  JKSN HT-ROOSVLT   45564.549451"
      ]
     },
     "execution_count": 188,
     "metadata": {},
     "output_type": "execute_result"
    }
   ],
   "source": [
    "mean_entries_per_station.sort_values(by=\"ENTRY_DIFF\", ascending=False).head(20)"
   ]
  },
  {
   "cell_type": "markdown",
   "metadata": {},
   "source": [
    "**Find top 20 stations by average daily entries: by STATION AND SUBWAY LINES**"
   ]
  },
  {
   "cell_type": "code",
   "execution_count": 201,
   "metadata": {},
   "outputs": [],
   "source": [
    "grouping = ['STATION','DATE', 'LINENAME']"
   ]
  },
  {
   "cell_type": "code",
   "execution_count": 202,
   "metadata": {},
   "outputs": [],
   "source": [
    "daily_entries_per_station_line = time_series_df.groupby(by=grouping)['ENTRY_DIFF'].sum().reset_index()"
   ]
  },
  {
   "cell_type": "code",
   "execution_count": 203,
   "metadata": {},
   "outputs": [
    {
     "data": {
      "text/plain": [
       "897951.0"
      ]
     },
     "execution_count": 203,
     "metadata": {},
     "output_type": "execute_result"
    }
   ],
   "source": [
    "daily_entries_per_station_line['ENTRY_DIFF'].max()"
   ]
  },
  {
   "cell_type": "code",
   "execution_count": 204,
   "metadata": {},
   "outputs": [
    {
     "data": {
      "text/plain": [
       "207"
      ]
     },
     "execution_count": 204,
     "metadata": {},
     "output_type": "execute_result"
    }
   ],
   "source": [
    "zero_mask = (daily_entries_per_station_line.ENTRY_DIFF == 0)\n",
    "daily_entries_per_station_line[zero_mask].shape[0]"
   ]
  },
  {
   "cell_type": "markdown",
   "metadata": {},
   "source": [
    "**Remove days with zero entries from the dataset**"
   ]
  },
  {
   "cell_type": "code",
   "execution_count": 205,
   "metadata": {},
   "outputs": [],
   "source": [
    "daily_entries_per_station_line= daily_entries_per_station_line[daily_entries_per_station_line.ENTRY_DIFF != 0]"
   ]
  },
  {
   "cell_type": "code",
   "execution_count": 206,
   "metadata": {},
   "outputs": [
    {
     "data": {
      "text/plain": [
       "(42746, 4)"
      ]
     },
     "execution_count": 206,
     "metadata": {},
     "output_type": "execute_result"
    }
   ],
   "source": [
    "daily_entries_per_station_line.shape"
   ]
  },
  {
   "cell_type": "code",
   "execution_count": 207,
   "metadata": {},
   "outputs": [],
   "source": [
    "mean_entries_per_station_line = daily_entries_per_station_line.groupby(by=['STATION', 'LINENAME'])['ENTRY_DIFF'].mean().reset_index()"
   ]
  },
  {
   "cell_type": "code",
   "execution_count": 208,
   "metadata": {},
   "outputs": [
    {
     "data": {
      "text/html": [
       "<div>\n",
       "<style scoped>\n",
       "    .dataframe tbody tr th:only-of-type {\n",
       "        vertical-align: middle;\n",
       "    }\n",
       "\n",
       "    .dataframe tbody tr th {\n",
       "        vertical-align: top;\n",
       "    }\n",
       "\n",
       "    .dataframe thead th {\n",
       "        text-align: right;\n",
       "    }\n",
       "</style>\n",
       "<table border=\"1\" class=\"dataframe\">\n",
       "  <thead>\n",
       "    <tr style=\"text-align: right;\">\n",
       "      <th></th>\n",
       "      <th>STATION</th>\n",
       "      <th>LINENAME</th>\n",
       "      <th>ENTRY_DIFF</th>\n",
       "    </tr>\n",
       "  </thead>\n",
       "  <tbody>\n",
       "    <tr>\n",
       "      <th>312</th>\n",
       "      <td>GRD CNTRL-42 ST</td>\n",
       "      <td>4567S</td>\n",
       "      <td>125024.857143</td>\n",
       "    </tr>\n",
       "    <tr>\n",
       "      <th>89</th>\n",
       "      <td>34 ST-HERALD SQ</td>\n",
       "      <td>BDFMNQRW</td>\n",
       "      <td>98418.098901</td>\n",
       "    </tr>\n",
       "    <tr>\n",
       "      <th>93</th>\n",
       "      <td>34 ST-PENN STA</td>\n",
       "      <td>ACE</td>\n",
       "      <td>75667.384615</td>\n",
       "    </tr>\n",
       "    <tr>\n",
       "      <th>102</th>\n",
       "      <td>42 ST-PORT AUTH</td>\n",
       "      <td>ACENQRS1237W</td>\n",
       "      <td>70429.736264</td>\n",
       "    </tr>\n",
       "    <tr>\n",
       "      <th>28</th>\n",
       "      <td>14 ST-UNION SQ</td>\n",
       "      <td>LNQR456W</td>\n",
       "      <td>67863.923077</td>\n",
       "    </tr>\n",
       "    <tr>\n",
       "      <th>448</th>\n",
       "      <td>TIMES SQ-42 ST</td>\n",
       "      <td>1237ACENQRSW</td>\n",
       "      <td>56893.021978</td>\n",
       "    </tr>\n",
       "    <tr>\n",
       "      <th>302</th>\n",
       "      <td>FULTON ST</td>\n",
       "      <td>2345ACJZ</td>\n",
       "      <td>52988.000000</td>\n",
       "    </tr>\n",
       "    <tr>\n",
       "      <th>125</th>\n",
       "      <td>59 ST COLUMBUS</td>\n",
       "      <td>ABCD1</td>\n",
       "      <td>52297.000000</td>\n",
       "    </tr>\n",
       "    <tr>\n",
       "      <th>289</th>\n",
       "      <td>FLUSHING-MAIN</td>\n",
       "      <td>7</td>\n",
       "      <td>50873.912088</td>\n",
       "    </tr>\n",
       "    <tr>\n",
       "      <th>404</th>\n",
       "      <td>PATH NEW WTC</td>\n",
       "      <td>1</td>\n",
       "      <td>47102.956044</td>\n",
       "    </tr>\n",
       "    <tr>\n",
       "      <th>106</th>\n",
       "      <td>47-50 STS ROCK</td>\n",
       "      <td>BDFM</td>\n",
       "      <td>46632.644444</td>\n",
       "    </tr>\n",
       "    <tr>\n",
       "      <th>339</th>\n",
       "      <td>JKSN HT-ROOSVLT</td>\n",
       "      <td>EFMR7</td>\n",
       "      <td>45564.549451</td>\n",
       "    </tr>\n",
       "    <tr>\n",
       "      <th>92</th>\n",
       "      <td>34 ST-PENN STA</td>\n",
       "      <td>123ACE</td>\n",
       "      <td>44962.912088</td>\n",
       "    </tr>\n",
       "    <tr>\n",
       "      <th>235</th>\n",
       "      <td>CANAL ST</td>\n",
       "      <td>JNQRZ6W</td>\n",
       "      <td>42895.219780</td>\n",
       "    </tr>\n",
       "    <tr>\n",
       "      <th>121</th>\n",
       "      <td>59 ST</td>\n",
       "      <td>456NQRW</td>\n",
       "      <td>40485.164835</td>\n",
       "    </tr>\n",
       "    <tr>\n",
       "      <th>460</th>\n",
       "      <td>W 4 ST-WASH SQ</td>\n",
       "      <td>ABCDEFM</td>\n",
       "      <td>38936.406593</td>\n",
       "    </tr>\n",
       "    <tr>\n",
       "      <th>156</th>\n",
       "      <td>86 ST</td>\n",
       "      <td>456</td>\n",
       "      <td>38390.241758</td>\n",
       "    </tr>\n",
       "    <tr>\n",
       "      <th>138</th>\n",
       "      <td>72 ST</td>\n",
       "      <td>123</td>\n",
       "      <td>35088.164835</td>\n",
       "    </tr>\n",
       "    <tr>\n",
       "      <th>100</th>\n",
       "      <td>42 ST-BRYANT PK</td>\n",
       "      <td>BDFM7</td>\n",
       "      <td>34140.373626</td>\n",
       "    </tr>\n",
       "    <tr>\n",
       "      <th>164</th>\n",
       "      <td>96 ST</td>\n",
       "      <td>123</td>\n",
       "      <td>33272.461538</td>\n",
       "    </tr>\n",
       "  </tbody>\n",
       "</table>\n",
       "</div>"
      ],
      "text/plain": [
       "             STATION      LINENAME     ENTRY_DIFF\n",
       "312  GRD CNTRL-42 ST         4567S  125024.857143\n",
       "89   34 ST-HERALD SQ      BDFMNQRW   98418.098901\n",
       "93    34 ST-PENN STA           ACE   75667.384615\n",
       "102  42 ST-PORT AUTH  ACENQRS1237W   70429.736264\n",
       "28    14 ST-UNION SQ      LNQR456W   67863.923077\n",
       "448   TIMES SQ-42 ST  1237ACENQRSW   56893.021978\n",
       "302        FULTON ST      2345ACJZ   52988.000000\n",
       "125   59 ST COLUMBUS         ABCD1   52297.000000\n",
       "289    FLUSHING-MAIN             7   50873.912088\n",
       "404     PATH NEW WTC             1   47102.956044\n",
       "106   47-50 STS ROCK          BDFM   46632.644444\n",
       "339  JKSN HT-ROOSVLT         EFMR7   45564.549451\n",
       "92    34 ST-PENN STA        123ACE   44962.912088\n",
       "235         CANAL ST       JNQRZ6W   42895.219780\n",
       "121            59 ST       456NQRW   40485.164835\n",
       "460   W 4 ST-WASH SQ       ABCDEFM   38936.406593\n",
       "156            86 ST           456   38390.241758\n",
       "138            72 ST           123   35088.164835\n",
       "100  42 ST-BRYANT PK         BDFM7   34140.373626\n",
       "164            96 ST           123   33272.461538"
      ]
     },
     "execution_count": 208,
     "metadata": {},
     "output_type": "execute_result"
    }
   ],
   "source": [
    "mean_entries_per_station_line.sort_values(by=\"ENTRY_DIFF\", ascending=False).head(20)"
   ]
  },
  {
   "cell_type": "code",
   "execution_count": null,
   "metadata": {},
   "outputs": [],
   "source": []
  }
 ],
 "metadata": {
  "kernelspec": {
   "display_name": "Python 3",
   "language": "python",
   "name": "python3"
  },
  "language_info": {
   "codemirror_mode": {
    "name": "ipython",
    "version": 3
   },
   "file_extension": ".py",
   "mimetype": "text/x-python",
   "name": "python",
   "nbconvert_exporter": "python",
   "pygments_lexer": "ipython3",
   "version": "3.6.5"
  }
 },
 "nbformat": 4,
 "nbformat_minor": 2
}
