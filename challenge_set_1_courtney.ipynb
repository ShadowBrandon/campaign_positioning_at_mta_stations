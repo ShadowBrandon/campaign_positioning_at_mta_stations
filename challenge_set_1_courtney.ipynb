{
 "cells": [
  {
   "cell_type": "markdown",
   "metadata": {},
   "source": [
    "    Topic:        Challenge Set 1  \n",
    "    Subject:      Explore MTA turnstile data  \n",
    "    Date:         07/09/2018  \n",
    "    Name:         Courtney  \n",
    "    Worked with:  Tim, Brandon"
   ]
  },
  {
   "cell_type": "code",
   "execution_count": 54,
   "metadata": {},
   "outputs": [],
   "source": [
    "import pandas as pd\n",
    "import numpy as np\n",
    "import matplotlib.pyplot as plt\n",
    "\n",
    "%matplotlib inline"
   ]
  },
  {
   "cell_type": "markdown",
   "metadata": {},
   "source": [
    "**Challenge 1**"
   ]
  },
  {
   "cell_type": "markdown",
   "metadata": {},
   "source": [
    "* Open up a new Jupyter notebook\n",
    "* Download a few MTA turnstile data files\n",
    "* Open up a file, use csv reader to read it, make a python dict where there is a key for each (C/A, UNIT, SCP, STATION)."
   ]
  },
  {
   "cell_type": "markdown",
   "metadata": {},
   "source": [
    "First, create a function to retrieve the necessary data from April, May and June 2018."
   ]
  },
  {
   "cell_type": "code",
   "execution_count": 55,
   "metadata": {},
   "outputs": [],
   "source": [
    "# Data Source: http://web.mta.info/developers/turnstile.html\n",
    "def get_data(weeks):\n",
    "    \"\"\"\n",
    "    Retrieve and read data from a website\n",
    "    ---\n",
    "    Input: list of ints or strings, or single int/string\n",
    "    \"\"\"\n",
    "    url = \"http://web.mta.info/developers/data/nyct/turnstile/turnstile_{}.txt\"\n",
    "    data = []\n",
    "    for week in weeks:\n",
    "        file_url = url.format(week)\n",
    "        data.append(pd.read_csv(file_url))\n",
    "    return pd.concat(data)\n",
    "\n",
    "# Pull data from April, May and June 2018\n",
    "week_labels = [180630, 180623, 180616, 180609, 180602, 180526, \n",
    "               180519, 180512, 180505, 180428, 180421, 180414, 180407]\n",
    "turnstiles_df = get_data(week_labels)"
   ]
  },
  {
   "cell_type": "markdown",
   "metadata": {},
   "source": [
    "Alternatively if the file is already saved locally in the same\n",
    "directory as the Jupyter notebook, uncomment & run the below after \n",
    "assigning the local data file name to the variable file."
   ]
  },
  {
   "cell_type": "code",
   "execution_count": 60,
   "metadata": {},
   "outputs": [],
   "source": [
    "# data_file = 'data_file.txt'\n",
    "# turnstiles_df = pd.read_csv(data_file)"
   ]
  },
  {
   "cell_type": "code",
   "execution_count": 61,
   "metadata": {},
   "outputs": [],
   "source": [
    "# turnstiles_df.head()"
   ]
  },
  {
   "cell_type": "markdown",
   "metadata": {},
   "source": [
    "**Challenge 2**"
   ]
  },
  {
   "cell_type": "code",
   "execution_count": 35,
   "metadata": {},
   "outputs": [
    {
     "data": {
      "text/plain": [
       "(10000, 11)"
      ]
     },
     "execution_count": 35,
     "metadata": {},
     "output_type": "execute_result"
    }
   ],
   "source": [
    "test_data = data.iloc[0:10000]\n",
    "test_data.shape"
   ]
  },
  {
   "cell_type": "code",
   "execution_count": 36,
   "metadata": {},
   "outputs": [],
   "source": [
    "time_series = test_data[['C/A', 'UNIT', 'SCP', 'STATION', 'ENTRIES']]"
   ]
  },
  {
   "cell_type": "code",
   "execution_count": 37,
   "metadata": {},
   "outputs": [],
   "source": [
    "combined_date = test_data.loc[:,'DATE'] + ' ' + test_data.loc[:, 'TIME']"
   ]
  },
  {
   "cell_type": "code",
   "execution_count": 38,
   "metadata": {},
   "outputs": [],
   "source": [
    "combined_date = pd.to_datetime(combined_date)"
   ]
  },
  {
   "cell_type": "code",
   "execution_count": 39,
   "metadata": {},
   "outputs": [],
   "source": [
    "time_series['DATE_TIME'] = combined_date"
   ]
  },
  {
   "cell_type": "code",
   "execution_count": 40,
   "metadata": {},
   "outputs": [],
   "source": [
    "time_series['DATE'] = pd.to_datetime(test_data.loc[:,'DATE'])"
   ]
  },
  {
   "cell_type": "code",
   "execution_count": 41,
   "metadata": {},
   "outputs": [
    {
     "name": "stdout",
     "output_type": "stream",
     "text": [
      "    C/A  UNIT       SCP STATION  ENTRIES           DATE_TIME       DATE\n",
      "0  A002  R051  02-00-00   59 ST  6667150 2018-06-23 00:00:00 2018-06-23\n",
      "1  A002  R051  02-00-00   59 ST  6667173 2018-06-23 04:00:00 2018-06-23\n",
      "2  A002  R051  02-00-00   59 ST  6667189 2018-06-23 08:00:00 2018-06-23\n",
      "3  A002  R051  02-00-00   59 ST  6667305 2018-06-23 12:00:00 2018-06-23\n",
      "4  A002  R051  02-00-00   59 ST  6667534 2018-06-23 16:00:00 2018-06-23\n"
     ]
    }
   ],
   "source": [
    "print(time_series.head())"
   ]
  },
  {
   "cell_type": "code",
   "execution_count": 42,
   "metadata": {},
   "outputs": [
    {
     "data": {
      "text/plain": [
       "C/A                  object\n",
       "UNIT                 object\n",
       "SCP                  object\n",
       "STATION              object\n",
       "ENTRIES               int64\n",
       "DATE_TIME    datetime64[ns]\n",
       "DATE         datetime64[ns]\n",
       "dtype: object"
      ]
     },
     "execution_count": 42,
     "metadata": {},
     "output_type": "execute_result"
    }
   ],
   "source": [
    "time_series.dtypes"
   ]
  },
  {
   "cell_type": "markdown",
   "metadata": {},
   "source": [
    "**Challenge 3**"
   ]
  },
  {
   "cell_type": "markdown",
   "metadata": {},
   "source": [
    "How many hours apart are the measurements?  \n",
    "What is the total number of entries per day for each turnstile?  "
   ]
  },
  {
   "cell_type": "markdown",
   "metadata": {},
   "source": [
    "Subtract a minute from time points to account for 12am registering for the next day."
   ]
  },
  {
   "cell_type": "code",
   "execution_count": 43,
   "metadata": {},
   "outputs": [],
   "source": [
    "time_series.loc[:,'DATE_TIME'] = time_series.loc[:,'DATE_TIME'] - pd.Timedelta(minutes=1)"
   ]
  },
  {
   "cell_type": "code",
   "execution_count": 44,
   "metadata": {},
   "outputs": [
    {
     "data": {
      "text/html": [
       "<div>\n",
       "<style scoped>\n",
       "    .dataframe tbody tr th:only-of-type {\n",
       "        vertical-align: middle;\n",
       "    }\n",
       "\n",
       "    .dataframe tbody tr th {\n",
       "        vertical-align: top;\n",
       "    }\n",
       "\n",
       "    .dataframe thead th {\n",
       "        text-align: right;\n",
       "    }\n",
       "</style>\n",
       "<table border=\"1\" class=\"dataframe\">\n",
       "  <thead>\n",
       "    <tr style=\"text-align: right;\">\n",
       "      <th></th>\n",
       "      <th>C/A</th>\n",
       "      <th>UNIT</th>\n",
       "      <th>SCP</th>\n",
       "      <th>STATION</th>\n",
       "      <th>ENTRIES</th>\n",
       "      <th>DATE_TIME</th>\n",
       "      <th>DATE</th>\n",
       "    </tr>\n",
       "  </thead>\n",
       "  <tbody>\n",
       "    <tr>\n",
       "      <th>0</th>\n",
       "      <td>A002</td>\n",
       "      <td>R051</td>\n",
       "      <td>02-00-00</td>\n",
       "      <td>59 ST</td>\n",
       "      <td>6667150</td>\n",
       "      <td>2018-06-22 23:59:00</td>\n",
       "      <td>2018-06-23</td>\n",
       "    </tr>\n",
       "    <tr>\n",
       "      <th>1</th>\n",
       "      <td>A002</td>\n",
       "      <td>R051</td>\n",
       "      <td>02-00-00</td>\n",
       "      <td>59 ST</td>\n",
       "      <td>6667173</td>\n",
       "      <td>2018-06-23 03:59:00</td>\n",
       "      <td>2018-06-23</td>\n",
       "    </tr>\n",
       "    <tr>\n",
       "      <th>2</th>\n",
       "      <td>A002</td>\n",
       "      <td>R051</td>\n",
       "      <td>02-00-00</td>\n",
       "      <td>59 ST</td>\n",
       "      <td>6667189</td>\n",
       "      <td>2018-06-23 07:59:00</td>\n",
       "      <td>2018-06-23</td>\n",
       "    </tr>\n",
       "    <tr>\n",
       "      <th>3</th>\n",
       "      <td>A002</td>\n",
       "      <td>R051</td>\n",
       "      <td>02-00-00</td>\n",
       "      <td>59 ST</td>\n",
       "      <td>6667305</td>\n",
       "      <td>2018-06-23 11:59:00</td>\n",
       "      <td>2018-06-23</td>\n",
       "    </tr>\n",
       "    <tr>\n",
       "      <th>4</th>\n",
       "      <td>A002</td>\n",
       "      <td>R051</td>\n",
       "      <td>02-00-00</td>\n",
       "      <td>59 ST</td>\n",
       "      <td>6667534</td>\n",
       "      <td>2018-06-23 15:59:00</td>\n",
       "      <td>2018-06-23</td>\n",
       "    </tr>\n",
       "  </tbody>\n",
       "</table>\n",
       "</div>"
      ],
      "text/plain": [
       "    C/A  UNIT       SCP STATION  ENTRIES           DATE_TIME       DATE\n",
       "0  A002  R051  02-00-00   59 ST  6667150 2018-06-22 23:59:00 2018-06-23\n",
       "1  A002  R051  02-00-00   59 ST  6667173 2018-06-23 03:59:00 2018-06-23\n",
       "2  A002  R051  02-00-00   59 ST  6667189 2018-06-23 07:59:00 2018-06-23\n",
       "3  A002  R051  02-00-00   59 ST  6667305 2018-06-23 11:59:00 2018-06-23\n",
       "4  A002  R051  02-00-00   59 ST  6667534 2018-06-23 15:59:00 2018-06-23"
      ]
     },
     "execution_count": 44,
     "metadata": {},
     "output_type": "execute_result"
    }
   ],
   "source": [
    "time_series.head()"
   ]
  },
  {
   "cell_type": "markdown",
   "metadata": {},
   "source": [
    "Create a new Date column with the YYYY-MM-DD format based on the dates after subtracting 1 minute. "
   ]
  },
  {
   "cell_type": "code",
   "execution_count": 45,
   "metadata": {},
   "outputs": [],
   "source": [
    "time_series.loc[:,'DATE'] = time_series.loc[:,'DATE_TIME'].dt.date"
   ]
  },
  {
   "cell_type": "code",
   "execution_count": 46,
   "metadata": {},
   "outputs": [
    {
     "data": {
      "text/html": [
       "<div>\n",
       "<style scoped>\n",
       "    .dataframe tbody tr th:only-of-type {\n",
       "        vertical-align: middle;\n",
       "    }\n",
       "\n",
       "    .dataframe tbody tr th {\n",
       "        vertical-align: top;\n",
       "    }\n",
       "\n",
       "    .dataframe thead th {\n",
       "        text-align: right;\n",
       "    }\n",
       "</style>\n",
       "<table border=\"1\" class=\"dataframe\">\n",
       "  <thead>\n",
       "    <tr style=\"text-align: right;\">\n",
       "      <th></th>\n",
       "      <th>C/A</th>\n",
       "      <th>UNIT</th>\n",
       "      <th>SCP</th>\n",
       "      <th>STATION</th>\n",
       "      <th>ENTRIES</th>\n",
       "      <th>DATE_TIME</th>\n",
       "      <th>DATE</th>\n",
       "    </tr>\n",
       "  </thead>\n",
       "  <tbody>\n",
       "    <tr>\n",
       "      <th>0</th>\n",
       "      <td>A002</td>\n",
       "      <td>R051</td>\n",
       "      <td>02-00-00</td>\n",
       "      <td>59 ST</td>\n",
       "      <td>6667150</td>\n",
       "      <td>2018-06-22 23:59:00</td>\n",
       "      <td>2018-06-22</td>\n",
       "    </tr>\n",
       "    <tr>\n",
       "      <th>1</th>\n",
       "      <td>A002</td>\n",
       "      <td>R051</td>\n",
       "      <td>02-00-00</td>\n",
       "      <td>59 ST</td>\n",
       "      <td>6667173</td>\n",
       "      <td>2018-06-23 03:59:00</td>\n",
       "      <td>2018-06-23</td>\n",
       "    </tr>\n",
       "    <tr>\n",
       "      <th>2</th>\n",
       "      <td>A002</td>\n",
       "      <td>R051</td>\n",
       "      <td>02-00-00</td>\n",
       "      <td>59 ST</td>\n",
       "      <td>6667189</td>\n",
       "      <td>2018-06-23 07:59:00</td>\n",
       "      <td>2018-06-23</td>\n",
       "    </tr>\n",
       "    <tr>\n",
       "      <th>3</th>\n",
       "      <td>A002</td>\n",
       "      <td>R051</td>\n",
       "      <td>02-00-00</td>\n",
       "      <td>59 ST</td>\n",
       "      <td>6667305</td>\n",
       "      <td>2018-06-23 11:59:00</td>\n",
       "      <td>2018-06-23</td>\n",
       "    </tr>\n",
       "    <tr>\n",
       "      <th>4</th>\n",
       "      <td>A002</td>\n",
       "      <td>R051</td>\n",
       "      <td>02-00-00</td>\n",
       "      <td>59 ST</td>\n",
       "      <td>6667534</td>\n",
       "      <td>2018-06-23 15:59:00</td>\n",
       "      <td>2018-06-23</td>\n",
       "    </tr>\n",
       "  </tbody>\n",
       "</table>\n",
       "</div>"
      ],
      "text/plain": [
       "    C/A  UNIT       SCP STATION  ENTRIES           DATE_TIME        DATE\n",
       "0  A002  R051  02-00-00   59 ST  6667150 2018-06-22 23:59:00  2018-06-22\n",
       "1  A002  R051  02-00-00   59 ST  6667173 2018-06-23 03:59:00  2018-06-23\n",
       "2  A002  R051  02-00-00   59 ST  6667189 2018-06-23 07:59:00  2018-06-23\n",
       "3  A002  R051  02-00-00   59 ST  6667305 2018-06-23 11:59:00  2018-06-23\n",
       "4  A002  R051  02-00-00   59 ST  6667534 2018-06-23 15:59:00  2018-06-23"
      ]
     },
     "execution_count": 46,
     "metadata": {},
     "output_type": "execute_result"
    }
   ],
   "source": [
    "time_series.head()"
   ]
  },
  {
   "cell_type": "markdown",
   "metadata": {},
   "source": [
    "Let's see what the time intervals are between measurements. "
   ]
  },
  {
   "cell_type": "code",
   "execution_count": 47,
   "metadata": {},
   "outputs": [],
   "source": [
    "group_vals = ['C/A', 'UNIT', 'SCP','STATION']"
   ]
  },
  {
   "cell_type": "code",
   "execution_count": 48,
   "metadata": {},
   "outputs": [],
   "source": [
    "turnstile_data = time_series.groupby(by=group_vals)"
   ]
  },
  {
   "cell_type": "code",
   "execution_count": 49,
   "metadata": {},
   "outputs": [],
   "source": [
    "time_diff = turnstile_data['DATE_TIME'].diff()"
   ]
  },
  {
   "cell_type": "code",
   "execution_count": 50,
   "metadata": {},
   "outputs": [
    {
     "data": {
      "text/plain": [
       "04:00:00    0.997029\n",
       "08:00:00    0.001742\n",
       "00:15:33    0.000615\n",
       "03:44:27    0.000615\n",
       "Name: DATE_TIME, dtype: float64"
      ]
     },
     "execution_count": 50,
     "metadata": {},
     "output_type": "execute_result"
    }
   ],
   "source": [
    "time_diff.value_counts(normalize=True)"
   ]
  },
  {
   "cell_type": "markdown",
   "metadata": {},
   "source": [
    "In the test dataset, the vast majority of time intervals are 4-hour time intervals.   \n",
    "\n",
    "---\n",
    "Now let's work on the total entries per turnstile per day. "
   ]
  },
  {
   "cell_type": "code",
   "execution_count": 51,
   "metadata": {},
   "outputs": [],
   "source": [
    "entry_diff_per_turnstile_interval = time_series.groupby(by=group_vals)['ENTRIES'].diff()"
   ]
  },
  {
   "cell_type": "code",
   "execution_count": 52,
   "metadata": {},
   "outputs": [],
   "source": [
    "time_series['entry_per_interval'] = entry_diff_per_turnstile_interval"
   ]
  },
  {
   "cell_type": "code",
   "execution_count": 30,
   "metadata": {},
   "outputs": [
    {
     "data": {
      "text/html": [
       "<div>\n",
       "<style scoped>\n",
       "    .dataframe tbody tr th:only-of-type {\n",
       "        vertical-align: middle;\n",
       "    }\n",
       "\n",
       "    .dataframe tbody tr th {\n",
       "        vertical-align: top;\n",
       "    }\n",
       "\n",
       "    .dataframe thead th {\n",
       "        text-align: right;\n",
       "    }\n",
       "</style>\n",
       "<table border=\"1\" class=\"dataframe\">\n",
       "  <thead>\n",
       "    <tr style=\"text-align: right;\">\n",
       "      <th></th>\n",
       "      <th>C/A</th>\n",
       "      <th>UNIT</th>\n",
       "      <th>SCP</th>\n",
       "      <th>STATION</th>\n",
       "      <th>ENTRIES</th>\n",
       "      <th>DATE_TIME</th>\n",
       "      <th>DATE</th>\n",
       "      <th>entry_per_interval</th>\n",
       "    </tr>\n",
       "  </thead>\n",
       "  <tbody>\n",
       "    <tr>\n",
       "      <th>1</th>\n",
       "      <td>A002</td>\n",
       "      <td>R051</td>\n",
       "      <td>02-00-00</td>\n",
       "      <td>59 ST</td>\n",
       "      <td>6667173</td>\n",
       "      <td>2018-06-23 03:59:00</td>\n",
       "      <td>2018-06-23</td>\n",
       "      <td>23.0</td>\n",
       "    </tr>\n",
       "    <tr>\n",
       "      <th>2</th>\n",
       "      <td>A002</td>\n",
       "      <td>R051</td>\n",
       "      <td>02-00-00</td>\n",
       "      <td>59 ST</td>\n",
       "      <td>6667189</td>\n",
       "      <td>2018-06-23 07:59:00</td>\n",
       "      <td>2018-06-23</td>\n",
       "      <td>16.0</td>\n",
       "    </tr>\n",
       "    <tr>\n",
       "      <th>3</th>\n",
       "      <td>A002</td>\n",
       "      <td>R051</td>\n",
       "      <td>02-00-00</td>\n",
       "      <td>59 ST</td>\n",
       "      <td>6667305</td>\n",
       "      <td>2018-06-23 11:59:00</td>\n",
       "      <td>2018-06-23</td>\n",
       "      <td>116.0</td>\n",
       "    </tr>\n",
       "    <tr>\n",
       "      <th>4</th>\n",
       "      <td>A002</td>\n",
       "      <td>R051</td>\n",
       "      <td>02-00-00</td>\n",
       "      <td>59 ST</td>\n",
       "      <td>6667534</td>\n",
       "      <td>2018-06-23 15:59:00</td>\n",
       "      <td>2018-06-23</td>\n",
       "      <td>229.0</td>\n",
       "    </tr>\n",
       "    <tr>\n",
       "      <th>5</th>\n",
       "      <td>A002</td>\n",
       "      <td>R051</td>\n",
       "      <td>02-00-00</td>\n",
       "      <td>59 ST</td>\n",
       "      <td>6667819</td>\n",
       "      <td>2018-06-23 19:59:00</td>\n",
       "      <td>2018-06-23</td>\n",
       "      <td>285.0</td>\n",
       "    </tr>\n",
       "    <tr>\n",
       "      <th>6</th>\n",
       "      <td>A002</td>\n",
       "      <td>R051</td>\n",
       "      <td>02-00-00</td>\n",
       "      <td>59 ST</td>\n",
       "      <td>6667980</td>\n",
       "      <td>2018-06-23 23:59:00</td>\n",
       "      <td>2018-06-23</td>\n",
       "      <td>161.0</td>\n",
       "    </tr>\n",
       "    <tr>\n",
       "      <th>7</th>\n",
       "      <td>A002</td>\n",
       "      <td>R051</td>\n",
       "      <td>02-00-00</td>\n",
       "      <td>59 ST</td>\n",
       "      <td>6667999</td>\n",
       "      <td>2018-06-24 03:59:00</td>\n",
       "      <td>2018-06-24</td>\n",
       "      <td>19.0</td>\n",
       "    </tr>\n",
       "    <tr>\n",
       "      <th>8</th>\n",
       "      <td>A002</td>\n",
       "      <td>R051</td>\n",
       "      <td>02-00-00</td>\n",
       "      <td>59 ST</td>\n",
       "      <td>6668012</td>\n",
       "      <td>2018-06-24 07:59:00</td>\n",
       "      <td>2018-06-24</td>\n",
       "      <td>13.0</td>\n",
       "    </tr>\n",
       "    <tr>\n",
       "      <th>9</th>\n",
       "      <td>A002</td>\n",
       "      <td>R051</td>\n",
       "      <td>02-00-00</td>\n",
       "      <td>59 ST</td>\n",
       "      <td>6668092</td>\n",
       "      <td>2018-06-24 11:59:00</td>\n",
       "      <td>2018-06-24</td>\n",
       "      <td>80.0</td>\n",
       "    </tr>\n",
       "    <tr>\n",
       "      <th>10</th>\n",
       "      <td>A002</td>\n",
       "      <td>R051</td>\n",
       "      <td>02-00-00</td>\n",
       "      <td>59 ST</td>\n",
       "      <td>6668269</td>\n",
       "      <td>2018-06-24 15:59:00</td>\n",
       "      <td>2018-06-24</td>\n",
       "      <td>177.0</td>\n",
       "    </tr>\n",
       "  </tbody>\n",
       "</table>\n",
       "</div>"
      ],
      "text/plain": [
       "     C/A  UNIT       SCP STATION  ENTRIES           DATE_TIME        DATE  \\\n",
       "1   A002  R051  02-00-00   59 ST  6667173 2018-06-23 03:59:00  2018-06-23   \n",
       "2   A002  R051  02-00-00   59 ST  6667189 2018-06-23 07:59:00  2018-06-23   \n",
       "3   A002  R051  02-00-00   59 ST  6667305 2018-06-23 11:59:00  2018-06-23   \n",
       "4   A002  R051  02-00-00   59 ST  6667534 2018-06-23 15:59:00  2018-06-23   \n",
       "5   A002  R051  02-00-00   59 ST  6667819 2018-06-23 19:59:00  2018-06-23   \n",
       "6   A002  R051  02-00-00   59 ST  6667980 2018-06-23 23:59:00  2018-06-23   \n",
       "7   A002  R051  02-00-00   59 ST  6667999 2018-06-24 03:59:00  2018-06-24   \n",
       "8   A002  R051  02-00-00   59 ST  6668012 2018-06-24 07:59:00  2018-06-24   \n",
       "9   A002  R051  02-00-00   59 ST  6668092 2018-06-24 11:59:00  2018-06-24   \n",
       "10  A002  R051  02-00-00   59 ST  6668269 2018-06-24 15:59:00  2018-06-24   \n",
       "\n",
       "    entry_per_interval  \n",
       "1                 23.0  \n",
       "2                 16.0  \n",
       "3                116.0  \n",
       "4                229.0  \n",
       "5                285.0  \n",
       "6                161.0  \n",
       "7                 19.0  \n",
       "8                 13.0  \n",
       "9                 80.0  \n",
       "10               177.0  "
      ]
     },
     "execution_count": 30,
     "metadata": {},
     "output_type": "execute_result"
    }
   ],
   "source": [
    "time_series.iloc[0:10]"
   ]
  },
  {
   "cell_type": "code",
   "execution_count": 53,
   "metadata": {},
   "outputs": [
    {
     "data": {
      "text/html": [
       "<div>\n",
       "<style scoped>\n",
       "    .dataframe tbody tr th:only-of-type {\n",
       "        vertical-align: middle;\n",
       "    }\n",
       "\n",
       "    .dataframe tbody tr th {\n",
       "        vertical-align: top;\n",
       "    }\n",
       "\n",
       "    .dataframe thead th {\n",
       "        text-align: right;\n",
       "    }\n",
       "</style>\n",
       "<table border=\"1\" class=\"dataframe\">\n",
       "  <thead>\n",
       "    <tr style=\"text-align: right;\">\n",
       "      <th></th>\n",
       "      <th>C/A</th>\n",
       "      <th>UNIT</th>\n",
       "      <th>SCP</th>\n",
       "      <th>STATION</th>\n",
       "      <th>ENTRIES</th>\n",
       "      <th>DATE_TIME</th>\n",
       "      <th>DATE</th>\n",
       "      <th>entry_per_interval</th>\n",
       "    </tr>\n",
       "  </thead>\n",
       "  <tbody>\n",
       "    <tr>\n",
       "      <th>1422</th>\n",
       "      <td>A011</td>\n",
       "      <td>R080</td>\n",
       "      <td>01-00-00</td>\n",
       "      <td>57 ST-7 AV</td>\n",
       "      <td>885910226</td>\n",
       "      <td>2018-06-23 03:59:00</td>\n",
       "      <td>2018-06-23</td>\n",
       "      <td>-10.0</td>\n",
       "    </tr>\n",
       "    <tr>\n",
       "      <th>1423</th>\n",
       "      <td>A011</td>\n",
       "      <td>R080</td>\n",
       "      <td>01-00-00</td>\n",
       "      <td>57 ST-7 AV</td>\n",
       "      <td>885910216</td>\n",
       "      <td>2018-06-23 07:59:00</td>\n",
       "      <td>2018-06-23</td>\n",
       "      <td>-10.0</td>\n",
       "    </tr>\n",
       "    <tr>\n",
       "      <th>1424</th>\n",
       "      <td>A011</td>\n",
       "      <td>R080</td>\n",
       "      <td>01-00-00</td>\n",
       "      <td>57 ST-7 AV</td>\n",
       "      <td>885910184</td>\n",
       "      <td>2018-06-23 11:59:00</td>\n",
       "      <td>2018-06-23</td>\n",
       "      <td>-32.0</td>\n",
       "    </tr>\n",
       "    <tr>\n",
       "      <th>1425</th>\n",
       "      <td>A011</td>\n",
       "      <td>R080</td>\n",
       "      <td>01-00-00</td>\n",
       "      <td>57 ST-7 AV</td>\n",
       "      <td>885910124</td>\n",
       "      <td>2018-06-23 15:59:00</td>\n",
       "      <td>2018-06-23</td>\n",
       "      <td>-60.0</td>\n",
       "    </tr>\n",
       "    <tr>\n",
       "      <th>1426</th>\n",
       "      <td>A011</td>\n",
       "      <td>R080</td>\n",
       "      <td>01-00-00</td>\n",
       "      <td>57 ST-7 AV</td>\n",
       "      <td>885910023</td>\n",
       "      <td>2018-06-23 19:59:00</td>\n",
       "      <td>2018-06-23</td>\n",
       "      <td>-101.0</td>\n",
       "    </tr>\n",
       "  </tbody>\n",
       "</table>\n",
       "</div>"
      ],
      "text/plain": [
       "       C/A  UNIT       SCP     STATION    ENTRIES           DATE_TIME  \\\n",
       "1422  A011  R080  01-00-00  57 ST-7 AV  885910226 2018-06-23 03:59:00   \n",
       "1423  A011  R080  01-00-00  57 ST-7 AV  885910216 2018-06-23 07:59:00   \n",
       "1424  A011  R080  01-00-00  57 ST-7 AV  885910184 2018-06-23 11:59:00   \n",
       "1425  A011  R080  01-00-00  57 ST-7 AV  885910124 2018-06-23 15:59:00   \n",
       "1426  A011  R080  01-00-00  57 ST-7 AV  885910023 2018-06-23 19:59:00   \n",
       "\n",
       "            DATE  entry_per_interval  \n",
       "1422  2018-06-23               -10.0  \n",
       "1423  2018-06-23               -10.0  \n",
       "1424  2018-06-23               -32.0  \n",
       "1425  2018-06-23               -60.0  \n",
       "1426  2018-06-23              -101.0  "
      ]
     },
     "execution_count": 53,
     "metadata": {},
     "output_type": "execute_result"
    }
   ],
   "source": [
    "time_series[time_series['entry_per_interval'] < 0].head()"
   ]
  },
  {
   "cell_type": "markdown",
   "metadata": {},
   "source": [
    "Remove missing data (dates at the start of each set of turnstile data, where we have no prior date to compare the turnstile count to)."
   ]
  },
  {
   "cell_type": "code",
   "execution_count": 24,
   "metadata": {},
   "outputs": [],
   "source": [
    "time_series = time_series.dropna(subset=['entry_per_interval'])"
   ]
  },
  {
   "cell_type": "code",
   "execution_count": 25,
   "metadata": {},
   "outputs": [],
   "source": [
    "grouping = ['C/A', 'UNIT', 'SCP', 'STATION', 'DATE']"
   ]
  },
  {
   "cell_type": "code",
   "execution_count": 26,
   "metadata": {},
   "outputs": [],
   "source": [
    "daily_entries_per_turnstile = time_series.groupby(by=grouping)['entry_per_interval'].sum().reset_index()"
   ]
  },
  {
   "cell_type": "code",
   "execution_count": 27,
   "metadata": {},
   "outputs": [],
   "source": [
    "daily_entries_per_turnstile.rename(columns={'entry_per_interval':'DAILY_ENTRIES'}, inplace=True)"
   ]
  },
  {
   "cell_type": "code",
   "execution_count": 29,
   "metadata": {},
   "outputs": [
    {
     "data": {
      "text/html": [
       "<div>\n",
       "<style scoped>\n",
       "    .dataframe tbody tr th:only-of-type {\n",
       "        vertical-align: middle;\n",
       "    }\n",
       "\n",
       "    .dataframe tbody tr th {\n",
       "        vertical-align: top;\n",
       "    }\n",
       "\n",
       "    .dataframe thead th {\n",
       "        text-align: right;\n",
       "    }\n",
       "</style>\n",
       "<table border=\"1\" class=\"dataframe\">\n",
       "  <thead>\n",
       "    <tr style=\"text-align: right;\">\n",
       "      <th></th>\n",
       "      <th>C/A</th>\n",
       "      <th>UNIT</th>\n",
       "      <th>SCP</th>\n",
       "      <th>STATION</th>\n",
       "      <th>DATE</th>\n",
       "      <th>DAILY_ENTRIES</th>\n",
       "    </tr>\n",
       "  </thead>\n",
       "  <tbody>\n",
       "    <tr>\n",
       "      <th>0</th>\n",
       "      <td>A002</td>\n",
       "      <td>R051</td>\n",
       "      <td>02-00-00</td>\n",
       "      <td>59 ST</td>\n",
       "      <td>2018-06-23</td>\n",
       "      <td>830.0</td>\n",
       "    </tr>\n",
       "    <tr>\n",
       "      <th>1</th>\n",
       "      <td>A002</td>\n",
       "      <td>R051</td>\n",
       "      <td>02-00-00</td>\n",
       "      <td>59 ST</td>\n",
       "      <td>2018-06-24</td>\n",
       "      <td>606.0</td>\n",
       "    </tr>\n",
       "    <tr>\n",
       "      <th>2</th>\n",
       "      <td>A002</td>\n",
       "      <td>R051</td>\n",
       "      <td>02-00-00</td>\n",
       "      <td>59 ST</td>\n",
       "      <td>2018-06-25</td>\n",
       "      <td>1378.0</td>\n",
       "    </tr>\n",
       "    <tr>\n",
       "      <th>3</th>\n",
       "      <td>A002</td>\n",
       "      <td>R051</td>\n",
       "      <td>02-00-00</td>\n",
       "      <td>59 ST</td>\n",
       "      <td>2018-06-26</td>\n",
       "      <td>1234.0</td>\n",
       "    </tr>\n",
       "    <tr>\n",
       "      <th>4</th>\n",
       "      <td>A002</td>\n",
       "      <td>R051</td>\n",
       "      <td>02-00-00</td>\n",
       "      <td>59 ST</td>\n",
       "      <td>2018-06-27</td>\n",
       "      <td>1481.0</td>\n",
       "    </tr>\n",
       "  </tbody>\n",
       "</table>\n",
       "</div>"
      ],
      "text/plain": [
       "    C/A  UNIT       SCP STATION        DATE  DAILY_ENTRIES\n",
       "0  A002  R051  02-00-00   59 ST  2018-06-23          830.0\n",
       "1  A002  R051  02-00-00   59 ST  2018-06-24          606.0\n",
       "2  A002  R051  02-00-00   59 ST  2018-06-25         1378.0\n",
       "3  A002  R051  02-00-00   59 ST  2018-06-26         1234.0\n",
       "4  A002  R051  02-00-00   59 ST  2018-06-27         1481.0"
      ]
     },
     "execution_count": 29,
     "metadata": {},
     "output_type": "execute_result"
    }
   ],
   "source": [
    "daily_entries_per_turnstile.head()"
   ]
  },
  {
   "cell_type": "markdown",
   "metadata": {},
   "source": [
    "**Challenge 4**"
   ]
  },
  {
   "cell_type": "code",
   "execution_count": null,
   "metadata": {},
   "outputs": [],
   "source": []
  }
 ],
 "metadata": {
  "kernelspec": {
   "display_name": "Python 3",
   "language": "python",
   "name": "python3"
  },
  "language_info": {
   "codemirror_mode": {
    "name": "ipython",
    "version": 3
   },
   "file_extension": ".py",
   "mimetype": "text/x-python",
   "name": "python",
   "nbconvert_exporter": "python",
   "pygments_lexer": "ipython3",
   "version": "3.6.5"
  }
 },
 "nbformat": 4,
 "nbformat_minor": 2
}
